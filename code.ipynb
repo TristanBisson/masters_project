{
  "nbformat": 4,
  "nbformat_minor": 0,
  "metadata": {
    "colab": {
      "name": "Untitled1.ipynb",
      "provenance": [],
      "collapsed_sections": []
    },
    "kernelspec": {
      "name": "python3",
      "display_name": "Python 3"
    },
    "language_info": {
      "name": "python"
    }
  },
  "cells": [
    {
      "cell_type": "markdown",
      "metadata": {
        "id": "nO96jFPv5yoj"
      },
      "source": [
        "Web scrapping https://www.politifact.com/ to get every statement by state. "
      ]
    },
    {
      "cell_type": "code",
      "metadata": {
        "colab": {
          "base_uri": "https://localhost:8080/"
        },
        "id": "irKAjzwuXUH5",
        "outputId": "3fe66325-99c1-40a4-e964-51f17436d769"
      },
      "source": [
        "\n",
        "import urllib.request,sys,time\n",
        "from bs4 import BeautifulSoup\n",
        "import requests\n",
        "import pandas as pd\n",
        "\n",
        "pagesToGet= 10\n",
        "\n",
        "states = [\"california\", \"florida\", \"illinois\", \"iowa\", \"missouri\", \"new-york\", \"north-carolina\",\n",
        "     \"pennsylvania\", \"texas\", \"virginia\", \"west-virginia\", \"vermont\", \"wisconsin\", \"michigan\"]\n",
        "\n",
        "upperframe=[]\n",
        "\n",
        "for s in states:  \n",
        "  for page in range(1,pagesToGet+1):\n",
        "    print('processing page :', page)\n",
        "    page_num = str(page)\n",
        "    url = 'https://www.politifact.com/factchecks/list/?page='+page_num+'&category='+s\n",
        "    print(url)\n",
        "    \n",
        " \n",
        "    try:\n",
        "        page=requests.get(url)                           \n",
        "    \n",
        "    except Exception as e:                                   \n",
        "        error_type, error_obj, error_info = sys.exc_info()      \n",
        "        print ('ERROR FOR LINK:',url)                        \n",
        "        print (error_type, 'Line:', error_info.tb_lineno)     \n",
        "        continue                                              \n",
        "    time.sleep(2)   \n",
        "    soup=BeautifulSoup(page.text,'html.parser')\n",
        "    frame=[]\n",
        "    links=soup.find_all('li',attrs={'class':'o-listicle__item'})\n",
        "    print(len(links))\n",
        "    filename=\"NEWS.csv\"\n",
        "    f=open(filename,\"w\", encoding = 'utf-8')\n",
        "    headers=\"Statement,Link,Date, Source, Label\\n\"\n",
        "    f.write(headers)\n",
        "    \n",
        "    for j in links:\n",
        "        Statement = j.find(\"div\",attrs={'class':'m-statement__quote'}).text.strip()\n",
        "        Link = \"https://www.politifact.com\"\n",
        "        Link += j.find(\"div\",attrs={'class':'m-statement__quote'}).find('a')['href'].strip()\n",
        "        Date = j.find('div',attrs={'class':'m-statement__body'}).find('footer').text[-18:-1].strip()\n",
        "        Source = j.find('div', attrs={'class':'m-statement__meta'}).find('a').text.strip()\n",
        "        Label = j.find('div', attrs ={'class':'m-statement__content'}).find('img',attrs={'class':'c-image__original'}).get('alt').strip()\n",
        "        state = s\n",
        "        frame.append((Statement,Link,Date,Source,Label, state))\n",
        "        f.write(Statement.replace(\",\",\"^\")+\",\"+Link+\",\"+Date.replace(\",\",\"^\")+\",\"+Source.replace(\",\",\"^\")+\",\"+Label.replace(\",\",\"^\")+\"\\n\")\n",
        "    upperframe.extend(frame)\n",
        "f.close()\n",
        "data=pd.DataFrame(upperframe, columns=['Statement','Link','Date','Source','Label', 'State'])\n"
      ],
      "execution_count": 1,
      "outputs": [
        {
          "output_type": "stream",
          "name": "stdout",
          "text": [
            "processing page : 1\n",
            "https://www.politifact.com/factchecks/list/?page=1&category=california\n",
            "30\n",
            "processing page : 2\n",
            "https://www.politifact.com/factchecks/list/?page=2&category=california\n",
            "30\n",
            "processing page : 3\n",
            "https://www.politifact.com/factchecks/list/?page=3&category=california\n",
            "30\n",
            "processing page : 4\n",
            "https://www.politifact.com/factchecks/list/?page=4&category=california\n",
            "30\n",
            "processing page : 5\n",
            "https://www.politifact.com/factchecks/list/?page=5&category=california\n",
            "30\n",
            "processing page : 6\n",
            "https://www.politifact.com/factchecks/list/?page=6&category=california\n",
            "30\n",
            "processing page : 7\n",
            "https://www.politifact.com/factchecks/list/?page=7&category=california\n",
            "30\n",
            "processing page : 8\n",
            "https://www.politifact.com/factchecks/list/?page=8&category=california\n",
            "30\n",
            "processing page : 9\n",
            "https://www.politifact.com/factchecks/list/?page=9&category=california\n",
            "30\n",
            "processing page : 10\n",
            "https://www.politifact.com/factchecks/list/?page=10&category=california\n",
            "30\n",
            "processing page : 1\n",
            "https://www.politifact.com/factchecks/list/?page=1&category=florida\n",
            "30\n",
            "processing page : 2\n",
            "https://www.politifact.com/factchecks/list/?page=2&category=florida\n",
            "30\n",
            "processing page : 3\n",
            "https://www.politifact.com/factchecks/list/?page=3&category=florida\n",
            "30\n",
            "processing page : 4\n",
            "https://www.politifact.com/factchecks/list/?page=4&category=florida\n",
            "30\n",
            "processing page : 5\n",
            "https://www.politifact.com/factchecks/list/?page=5&category=florida\n",
            "30\n",
            "processing page : 6\n",
            "https://www.politifact.com/factchecks/list/?page=6&category=florida\n",
            "30\n",
            "processing page : 7\n",
            "https://www.politifact.com/factchecks/list/?page=7&category=florida\n",
            "30\n",
            "processing page : 8\n",
            "https://www.politifact.com/factchecks/list/?page=8&category=florida\n",
            "30\n",
            "processing page : 9\n",
            "https://www.politifact.com/factchecks/list/?page=9&category=florida\n",
            "30\n",
            "processing page : 10\n",
            "https://www.politifact.com/factchecks/list/?page=10&category=florida\n",
            "30\n",
            "processing page : 1\n",
            "https://www.politifact.com/factchecks/list/?page=1&category=illinois\n",
            "30\n",
            "processing page : 2\n",
            "https://www.politifact.com/factchecks/list/?page=2&category=illinois\n",
            "30\n",
            "processing page : 3\n",
            "https://www.politifact.com/factchecks/list/?page=3&category=illinois\n",
            "30\n",
            "processing page : 4\n",
            "https://www.politifact.com/factchecks/list/?page=4&category=illinois\n",
            "30\n",
            "processing page : 5\n",
            "https://www.politifact.com/factchecks/list/?page=5&category=illinois\n",
            "30\n",
            "processing page : 6\n",
            "https://www.politifact.com/factchecks/list/?page=6&category=illinois\n",
            "30\n",
            "processing page : 7\n",
            "https://www.politifact.com/factchecks/list/?page=7&category=illinois\n",
            "15\n",
            "processing page : 8\n",
            "https://www.politifact.com/factchecks/list/?page=8&category=illinois\n",
            "0\n",
            "processing page : 9\n",
            "https://www.politifact.com/factchecks/list/?page=9&category=illinois\n",
            "0\n",
            "processing page : 10\n",
            "https://www.politifact.com/factchecks/list/?page=10&category=illinois\n",
            "0\n",
            "processing page : 1\n",
            "https://www.politifact.com/factchecks/list/?page=1&category=iowa\n",
            "30\n",
            "processing page : 2\n",
            "https://www.politifact.com/factchecks/list/?page=2&category=iowa\n",
            "21\n",
            "processing page : 3\n",
            "https://www.politifact.com/factchecks/list/?page=3&category=iowa\n",
            "0\n",
            "processing page : 4\n",
            "https://www.politifact.com/factchecks/list/?page=4&category=iowa\n",
            "0\n",
            "processing page : 5\n",
            "https://www.politifact.com/factchecks/list/?page=5&category=iowa\n",
            "0\n",
            "processing page : 6\n",
            "https://www.politifact.com/factchecks/list/?page=6&category=iowa\n",
            "0\n",
            "processing page : 7\n",
            "https://www.politifact.com/factchecks/list/?page=7&category=iowa\n",
            "0\n",
            "processing page : 8\n",
            "https://www.politifact.com/factchecks/list/?page=8&category=iowa\n",
            "0\n",
            "processing page : 9\n",
            "https://www.politifact.com/factchecks/list/?page=9&category=iowa\n",
            "0\n",
            "processing page : 10\n",
            "https://www.politifact.com/factchecks/list/?page=10&category=iowa\n",
            "0\n",
            "processing page : 1\n",
            "https://www.politifact.com/factchecks/list/?page=1&category=missouri\n",
            "30\n",
            "processing page : 2\n",
            "https://www.politifact.com/factchecks/list/?page=2&category=missouri\n",
            "30\n",
            "processing page : 3\n",
            "https://www.politifact.com/factchecks/list/?page=3&category=missouri\n",
            "30\n",
            "processing page : 4\n",
            "https://www.politifact.com/factchecks/list/?page=4&category=missouri\n",
            "30\n",
            "processing page : 5\n",
            "https://www.politifact.com/factchecks/list/?page=5&category=missouri\n",
            "30\n",
            "processing page : 6\n",
            "https://www.politifact.com/factchecks/list/?page=6&category=missouri\n",
            "30\n",
            "processing page : 7\n",
            "https://www.politifact.com/factchecks/list/?page=7&category=missouri\n",
            "13\n",
            "processing page : 8\n",
            "https://www.politifact.com/factchecks/list/?page=8&category=missouri\n",
            "0\n",
            "processing page : 9\n",
            "https://www.politifact.com/factchecks/list/?page=9&category=missouri\n",
            "0\n",
            "processing page : 10\n",
            "https://www.politifact.com/factchecks/list/?page=10&category=missouri\n",
            "0\n",
            "processing page : 1\n",
            "https://www.politifact.com/factchecks/list/?page=1&category=new-york\n",
            "30\n",
            "processing page : 2\n",
            "https://www.politifact.com/factchecks/list/?page=2&category=new-york\n",
            "30\n",
            "processing page : 3\n",
            "https://www.politifact.com/factchecks/list/?page=3&category=new-york\n",
            "30\n",
            "processing page : 4\n",
            "https://www.politifact.com/factchecks/list/?page=4&category=new-york\n",
            "30\n",
            "processing page : 5\n",
            "https://www.politifact.com/factchecks/list/?page=5&category=new-york\n",
            "30\n",
            "processing page : 6\n",
            "https://www.politifact.com/factchecks/list/?page=6&category=new-york\n",
            "30\n",
            "processing page : 7\n",
            "https://www.politifact.com/factchecks/list/?page=7&category=new-york\n",
            "30\n",
            "processing page : 8\n",
            "https://www.politifact.com/factchecks/list/?page=8&category=new-york\n",
            "30\n",
            "processing page : 9\n",
            "https://www.politifact.com/factchecks/list/?page=9&category=new-york\n",
            "6\n",
            "processing page : 10\n",
            "https://www.politifact.com/factchecks/list/?page=10&category=new-york\n",
            "0\n",
            "processing page : 1\n",
            "https://www.politifact.com/factchecks/list/?page=1&category=north-carolina\n",
            "30\n",
            "processing page : 2\n",
            "https://www.politifact.com/factchecks/list/?page=2&category=north-carolina\n",
            "30\n",
            "processing page : 3\n",
            "https://www.politifact.com/factchecks/list/?page=3&category=north-carolina\n",
            "30\n",
            "processing page : 4\n",
            "https://www.politifact.com/factchecks/list/?page=4&category=north-carolina\n",
            "30\n",
            "processing page : 5\n",
            "https://www.politifact.com/factchecks/list/?page=5&category=north-carolina\n",
            "30\n",
            "processing page : 6\n",
            "https://www.politifact.com/factchecks/list/?page=6&category=north-carolina\n",
            "30\n",
            "processing page : 7\n",
            "https://www.politifact.com/factchecks/list/?page=7&category=north-carolina\n",
            "30\n",
            "processing page : 8\n",
            "https://www.politifact.com/factchecks/list/?page=8&category=north-carolina\n",
            "30\n",
            "processing page : 9\n",
            "https://www.politifact.com/factchecks/list/?page=9&category=north-carolina\n",
            "30\n",
            "processing page : 10\n",
            "https://www.politifact.com/factchecks/list/?page=10&category=north-carolina\n",
            "23\n",
            "processing page : 1\n",
            "https://www.politifact.com/factchecks/list/?page=1&category=pennsylvania\n",
            "30\n",
            "processing page : 2\n",
            "https://www.politifact.com/factchecks/list/?page=2&category=pennsylvania\n",
            "30\n",
            "processing page : 3\n",
            "https://www.politifact.com/factchecks/list/?page=3&category=pennsylvania\n",
            "30\n",
            "processing page : 4\n",
            "https://www.politifact.com/factchecks/list/?page=4&category=pennsylvania\n",
            "30\n",
            "processing page : 5\n",
            "https://www.politifact.com/factchecks/list/?page=5&category=pennsylvania\n",
            "30\n",
            "processing page : 6\n",
            "https://www.politifact.com/factchecks/list/?page=6&category=pennsylvania\n",
            "19\n",
            "processing page : 7\n",
            "https://www.politifact.com/factchecks/list/?page=7&category=pennsylvania\n",
            "0\n",
            "processing page : 8\n",
            "https://www.politifact.com/factchecks/list/?page=8&category=pennsylvania\n",
            "0\n",
            "processing page : 9\n",
            "https://www.politifact.com/factchecks/list/?page=9&category=pennsylvania\n",
            "0\n",
            "processing page : 10\n",
            "https://www.politifact.com/factchecks/list/?page=10&category=pennsylvania\n",
            "0\n",
            "processing page : 1\n",
            "https://www.politifact.com/factchecks/list/?page=1&category=texas\n",
            "30\n",
            "processing page : 2\n",
            "https://www.politifact.com/factchecks/list/?page=2&category=texas\n",
            "30\n",
            "processing page : 3\n",
            "https://www.politifact.com/factchecks/list/?page=3&category=texas\n",
            "30\n",
            "processing page : 4\n",
            "https://www.politifact.com/factchecks/list/?page=4&category=texas\n",
            "30\n",
            "processing page : 5\n",
            "https://www.politifact.com/factchecks/list/?page=5&category=texas\n",
            "30\n",
            "processing page : 6\n",
            "https://www.politifact.com/factchecks/list/?page=6&category=texas\n",
            "30\n",
            "processing page : 7\n",
            "https://www.politifact.com/factchecks/list/?page=7&category=texas\n",
            "30\n",
            "processing page : 8\n",
            "https://www.politifact.com/factchecks/list/?page=8&category=texas\n",
            "30\n",
            "processing page : 9\n",
            "https://www.politifact.com/factchecks/list/?page=9&category=texas\n",
            "30\n",
            "processing page : 10\n",
            "https://www.politifact.com/factchecks/list/?page=10&category=texas\n",
            "30\n",
            "processing page : 1\n",
            "https://www.politifact.com/factchecks/list/?page=1&category=virginia\n",
            "30\n",
            "processing page : 2\n",
            "https://www.politifact.com/factchecks/list/?page=2&category=virginia\n",
            "30\n",
            "processing page : 3\n",
            "https://www.politifact.com/factchecks/list/?page=3&category=virginia\n",
            "30\n",
            "processing page : 4\n",
            "https://www.politifact.com/factchecks/list/?page=4&category=virginia\n",
            "30\n",
            "processing page : 5\n",
            "https://www.politifact.com/factchecks/list/?page=5&category=virginia\n",
            "30\n",
            "processing page : 6\n",
            "https://www.politifact.com/factchecks/list/?page=6&category=virginia\n",
            "30\n",
            "processing page : 7\n",
            "https://www.politifact.com/factchecks/list/?page=7&category=virginia\n",
            "30\n",
            "processing page : 8\n",
            "https://www.politifact.com/factchecks/list/?page=8&category=virginia\n",
            "30\n",
            "processing page : 9\n",
            "https://www.politifact.com/factchecks/list/?page=9&category=virginia\n",
            "30\n",
            "processing page : 10\n",
            "https://www.politifact.com/factchecks/list/?page=10&category=virginia\n",
            "30\n",
            "processing page : 1\n",
            "https://www.politifact.com/factchecks/list/?page=1&category=west-virginia\n",
            "30\n",
            "processing page : 2\n",
            "https://www.politifact.com/factchecks/list/?page=2&category=west-virginia\n",
            "30\n",
            "processing page : 3\n",
            "https://www.politifact.com/factchecks/list/?page=3&category=west-virginia\n",
            "30\n",
            "processing page : 4\n",
            "https://www.politifact.com/factchecks/list/?page=4&category=west-virginia\n",
            "13\n",
            "processing page : 5\n",
            "https://www.politifact.com/factchecks/list/?page=5&category=west-virginia\n",
            "0\n",
            "processing page : 6\n",
            "https://www.politifact.com/factchecks/list/?page=6&category=west-virginia\n",
            "0\n",
            "processing page : 7\n",
            "https://www.politifact.com/factchecks/list/?page=7&category=west-virginia\n",
            "0\n",
            "processing page : 8\n",
            "https://www.politifact.com/factchecks/list/?page=8&category=west-virginia\n",
            "0\n",
            "processing page : 9\n",
            "https://www.politifact.com/factchecks/list/?page=9&category=west-virginia\n",
            "0\n",
            "processing page : 10\n",
            "https://www.politifact.com/factchecks/list/?page=10&category=west-virginia\n",
            "0\n",
            "processing page : 1\n",
            "https://www.politifact.com/factchecks/list/?page=1&category=vermont\n",
            "30\n",
            "processing page : 2\n",
            "https://www.politifact.com/factchecks/list/?page=2&category=vermont\n",
            "3\n",
            "processing page : 3\n",
            "https://www.politifact.com/factchecks/list/?page=3&category=vermont\n",
            "0\n",
            "processing page : 4\n",
            "https://www.politifact.com/factchecks/list/?page=4&category=vermont\n",
            "0\n",
            "processing page : 5\n",
            "https://www.politifact.com/factchecks/list/?page=5&category=vermont\n",
            "0\n",
            "processing page : 6\n",
            "https://www.politifact.com/factchecks/list/?page=6&category=vermont\n",
            "0\n",
            "processing page : 7\n",
            "https://www.politifact.com/factchecks/list/?page=7&category=vermont\n",
            "0\n",
            "processing page : 8\n",
            "https://www.politifact.com/factchecks/list/?page=8&category=vermont\n",
            "0\n",
            "processing page : 9\n",
            "https://www.politifact.com/factchecks/list/?page=9&category=vermont\n",
            "0\n",
            "processing page : 10\n",
            "https://www.politifact.com/factchecks/list/?page=10&category=vermont\n",
            "0\n",
            "processing page : 1\n",
            "https://www.politifact.com/factchecks/list/?page=1&category=wisconsin\n",
            "30\n",
            "processing page : 2\n",
            "https://www.politifact.com/factchecks/list/?page=2&category=wisconsin\n",
            "30\n",
            "processing page : 3\n",
            "https://www.politifact.com/factchecks/list/?page=3&category=wisconsin\n",
            "30\n",
            "processing page : 4\n",
            "https://www.politifact.com/factchecks/list/?page=4&category=wisconsin\n",
            "30\n",
            "processing page : 5\n",
            "https://www.politifact.com/factchecks/list/?page=5&category=wisconsin\n",
            "30\n",
            "processing page : 6\n",
            "https://www.politifact.com/factchecks/list/?page=6&category=wisconsin\n",
            "30\n",
            "processing page : 7\n",
            "https://www.politifact.com/factchecks/list/?page=7&category=wisconsin\n",
            "30\n",
            "processing page : 8\n",
            "https://www.politifact.com/factchecks/list/?page=8&category=wisconsin\n",
            "30\n",
            "processing page : 9\n",
            "https://www.politifact.com/factchecks/list/?page=9&category=wisconsin\n",
            "30\n",
            "processing page : 10\n",
            "https://www.politifact.com/factchecks/list/?page=10&category=wisconsin\n",
            "30\n",
            "processing page : 1\n",
            "https://www.politifact.com/factchecks/list/?page=1&category=michigan\n",
            "30\n",
            "processing page : 2\n",
            "https://www.politifact.com/factchecks/list/?page=2&category=michigan\n",
            "30\n",
            "processing page : 3\n",
            "https://www.politifact.com/factchecks/list/?page=3&category=michigan\n",
            "5\n",
            "processing page : 4\n",
            "https://www.politifact.com/factchecks/list/?page=4&category=michigan\n",
            "0\n",
            "processing page : 5\n",
            "https://www.politifact.com/factchecks/list/?page=5&category=michigan\n",
            "0\n",
            "processing page : 6\n",
            "https://www.politifact.com/factchecks/list/?page=6&category=michigan\n",
            "0\n",
            "processing page : 7\n",
            "https://www.politifact.com/factchecks/list/?page=7&category=michigan\n",
            "0\n",
            "processing page : 8\n",
            "https://www.politifact.com/factchecks/list/?page=8&category=michigan\n",
            "0\n",
            "processing page : 9\n",
            "https://www.politifact.com/factchecks/list/?page=9&category=michigan\n",
            "0\n",
            "processing page : 10\n",
            "https://www.politifact.com/factchecks/list/?page=10&category=michigan\n",
            "0\n"
          ]
        }
      ]
    },
    {
      "cell_type": "code",
      "metadata": {
        "id": "o9GUR-BVbfz1"
      },
      "source": [
        "\n",
        "df = data.copy()\n",
        "df.to_csv('data_politifact.csv')\n"
      ],
      "execution_count": 2,
      "outputs": []
    },
    {
      "cell_type": "code",
      "metadata": {
        "id": "V-XICOQp87hZ",
        "colab": {
          "base_uri": "https://localhost:8080/",
          "height": 204
        },
        "outputId": "322dba22-607e-483f-aff4-11a3255172f4"
      },
      "source": [
        "df = pd.read_csv ('data_politifact.csv')\n",
        "\n",
        "df['Year'] = df['Date'].str[-4:]\n",
        "\n",
        "df['Year'].value_counts()\n",
        "\n",
        "df.head()\n"
      ],
      "execution_count": 3,
      "outputs": [
        {
          "output_type": "execute_result",
          "data": {
            "text/html": [
              "<div>\n",
              "<style scoped>\n",
              "    .dataframe tbody tr th:only-of-type {\n",
              "        vertical-align: middle;\n",
              "    }\n",
              "\n",
              "    .dataframe tbody tr th {\n",
              "        vertical-align: top;\n",
              "    }\n",
              "\n",
              "    .dataframe thead th {\n",
              "        text-align: right;\n",
              "    }\n",
              "</style>\n",
              "<table border=\"1\" class=\"dataframe\">\n",
              "  <thead>\n",
              "    <tr style=\"text-align: right;\">\n",
              "      <th></th>\n",
              "      <th>Unnamed: 0</th>\n",
              "      <th>Statement</th>\n",
              "      <th>Link</th>\n",
              "      <th>Date</th>\n",
              "      <th>Source</th>\n",
              "      <th>Label</th>\n",
              "      <th>State</th>\n",
              "      <th>Year</th>\n",
              "    </tr>\n",
              "  </thead>\n",
              "  <tbody>\n",
              "    <tr>\n",
              "      <th>0</th>\n",
              "      <td>0</td>\n",
              "      <td>“California voters to be able to download ball...</td>\n",
              "      <td>https://www.politifact.com/factchecks/2021/aug...</td>\n",
              "      <td>• August 27, 2021</td>\n",
              "      <td>Larry Elder</td>\n",
              "      <td>barely-true</td>\n",
              "      <td>california</td>\n",
              "      <td>2021</td>\n",
              "    </tr>\n",
              "    <tr>\n",
              "      <th>1</th>\n",
              "      <td>1</td>\n",
              "      <td>“CA inmate pregnant after being forced to shar...</td>\n",
              "      <td>https://www.politifact.com/factchecks/2021/aug...</td>\n",
              "      <td>• August 18, 2021</td>\n",
              "      <td>Viral image</td>\n",
              "      <td>false</td>\n",
              "      <td>california</td>\n",
              "      <td>2021</td>\n",
              "    </tr>\n",
              "    <tr>\n",
              "      <th>2</th>\n",
              "      <td>2</td>\n",
              "      <td>“Due to the new ‘delta variant’ California wil...</td>\n",
              "      <td>https://www.politifact.com/factchecks/2021/aug...</td>\n",
              "      <td>• August 6, 2021</td>\n",
              "      <td>Viral image</td>\n",
              "      <td>false</td>\n",
              "      <td>california</td>\n",
              "      <td>2021</td>\n",
              "    </tr>\n",
              "    <tr>\n",
              "      <th>3</th>\n",
              "      <td>3</td>\n",
              "      <td>“Ambassador Susan Rice Tribunal, Gavin Newsom ...</td>\n",
              "      <td>https://www.politifact.com/factchecks/2021/jul...</td>\n",
              "      <td>r • July 26, 2021</td>\n",
              "      <td>Facebook posts</td>\n",
              "      <td>pants-fire</td>\n",
              "      <td>california</td>\n",
              "      <td>2021</td>\n",
              "    </tr>\n",
              "    <tr>\n",
              "      <th>4</th>\n",
              "      <td>4</td>\n",
              "      <td>“California has a personal belief exemption to...</td>\n",
              "      <td>https://www.politifact.com/factchecks/2021/jul...</td>\n",
              "      <td>a • July 23, 2021</td>\n",
              "      <td>Instagram posts</td>\n",
              "      <td>false</td>\n",
              "      <td>california</td>\n",
              "      <td>2021</td>\n",
              "    </tr>\n",
              "  </tbody>\n",
              "</table>\n",
              "</div>"
            ],
            "text/plain": [
              "   Unnamed: 0  ...  Year\n",
              "0           0  ...  2021\n",
              "1           1  ...  2021\n",
              "2           2  ...  2021\n",
              "3           3  ...  2021\n",
              "4           4  ...  2021\n",
              "\n",
              "[5 rows x 8 columns]"
            ]
          },
          "metadata": {},
          "execution_count": 3
        }
      ]
    },
    {
      "cell_type": "markdown",
      "metadata": {
        "id": "rl01T_dg9UY4"
      },
      "source": [
        "Data cleaning\n"
      ]
    },
    {
      "cell_type": "code",
      "metadata": {
        "id": "Hntb6uWXTqUx",
        "colab": {
          "base_uri": "https://localhost:8080/"
        },
        "outputId": "96e4ca72-fc93-412d-de46-c85c7f839293"
      },
      "source": [
        "import numpy as np\n",
        "\n",
        "lab_to_remove = ['full-flop', 'half-flip', 'no-flip']\n",
        "\n",
        "df.loc[(df['Label'].isin(lab_to_remove))] = np.nan\n",
        "\n",
        "df['Label'].value_counts()"
      ],
      "execution_count": 4,
      "outputs": [
        {
          "output_type": "execute_result",
          "data": {
            "text/plain": [
              "false          689\n",
              "barely-true    538\n",
              "mostly-true    503\n",
              "half-true      474\n",
              "true           364\n",
              "pants-fire     244\n",
              "Name: Label, dtype: int64"
            ]
          },
          "metadata": {},
          "execution_count": 4
        }
      ]
    },
    {
      "cell_type": "markdown",
      "metadata": {
        "id": "lqyYO4MF9iS1"
      },
      "source": [
        "Creation of the fake news binary variable"
      ]
    },
    {
      "cell_type": "code",
      "metadata": {
        "id": "5rAmcWp5clYY",
        "colab": {
          "base_uri": "https://localhost:8080/"
        },
        "outputId": "d1b66889-ac8c-4cbc-d8dc-42afa3d74182"
      },
      "source": [
        "vrai = ['true', 'mostly-true', 'half-true']\n",
        "faux = ['barely-true', 'false', 'pants-fire']\n",
        "\n",
        "df['fake'] = ''\n",
        "\n",
        "for i in range(len(df)):\n",
        "    if df['Label'][i] in vrai:\n",
        "      df['fake'][i] = 0\n",
        "    elif df['Label'][i] in faux:\n",
        "      df['fake'][i] = 1\n",
        "    else:\n",
        "      df['fake'][i] = None\n",
        "\n",
        "df['fake'].value_counts()"
      ],
      "execution_count": 5,
      "outputs": [
        {
          "output_type": "stream",
          "name": "stderr",
          "text": [
            "/usr/local/lib/python3.7/dist-packages/ipykernel_launcher.py:10: SettingWithCopyWarning: \n",
            "A value is trying to be set on a copy of a slice from a DataFrame\n",
            "\n",
            "See the caveats in the documentation: https://pandas.pydata.org/pandas-docs/stable/user_guide/indexing.html#returning-a-view-versus-a-copy\n",
            "  # Remove the CWD from sys.path while we load stuff.\n",
            "/usr/local/lib/python3.7/dist-packages/ipykernel_launcher.py:8: SettingWithCopyWarning: \n",
            "A value is trying to be set on a copy of a slice from a DataFrame\n",
            "\n",
            "See the caveats in the documentation: https://pandas.pydata.org/pandas-docs/stable/user_guide/indexing.html#returning-a-view-versus-a-copy\n",
            "  \n",
            "/usr/local/lib/python3.7/dist-packages/ipykernel_launcher.py:12: SettingWithCopyWarning: \n",
            "A value is trying to be set on a copy of a slice from a DataFrame\n",
            "\n",
            "See the caveats in the documentation: https://pandas.pydata.org/pandas-docs/stable/user_guide/indexing.html#returning-a-view-versus-a-copy\n",
            "  if sys.path[0] == '':\n"
          ]
        },
        {
          "output_type": "execute_result",
          "data": {
            "text/plain": [
              "1    1471\n",
              "0    1341\n",
              "Name: fake, dtype: int64"
            ]
          },
          "metadata": {},
          "execution_count": 5
        }
      ]
    },
    {
      "cell_type": "markdown",
      "metadata": {
        "id": "JCGjSDODUjwc"
      },
      "source": [
        "Date time variables creation\n"
      ]
    },
    {
      "cell_type": "code",
      "metadata": {
        "id": "qK6qPc8DYZQu"
      },
      "source": [
        "month = []\n",
        "\n",
        "for x in df['Date']:\n",
        "  m = \"\"\n",
        "  for char in str(x):\n",
        "    if char.isalpha():\n",
        "      m += char\n",
        "  month.append(m)\n",
        "\n",
        "df['Month'] = month\n"
      ],
      "execution_count": 6,
      "outputs": []
    },
    {
      "cell_type": "code",
      "metadata": {
        "id": "l9xHh1Culvfc"
      },
      "source": [
        "m = [\"January\", \"February\", \"March\", \"April\", \"May\", \"June\", \"July\", \"August\",\"September\", \"October\", \"November\", \"December\"] \n",
        "\n",
        "month = []\n",
        "\n",
        "for i in df['Month']:\n",
        "  z = \"\"\n",
        "  for j in range(11):\n",
        "    if m[j] in str(i):\n",
        "      z = m[j]\n",
        "      break\n",
        "    else:\n",
        "      z = i\n",
        "  month.append(z)\n",
        "\n",
        "df['mois'] = month\n",
        "\n",
        "df[\"mois\"].replace({\"eptember\": \"September\", \"ptember\": \"September\", \"ovember\": \"November\"}, inplace=True)"
      ],
      "execution_count": 7,
      "outputs": []
    },
    {
      "cell_type": "code",
      "metadata": {
        "id": "OhV-L0EZ9DJP",
        "colab": {
          "base_uri": "https://localhost:8080/"
        },
        "outputId": "51bf5e88-efa2-4bf5-e45a-68d2610ed2be"
      },
      "source": [
        "m = [\"January\", \"February\", \"March\", \"April\", \"May\", \"June\", \"July\", \"August\",\"September\", \"October\", \"November\", \"December\"] \n",
        "\n",
        "month = []\n",
        "\n",
        "for i in df['mois']:\n",
        "  z = \"\"\n",
        "  for j in range(len(m)):\n",
        "    if m[j] == str(i):\n",
        "      z = j+1\n",
        "      break\n",
        "    else:\n",
        "      z = None\n",
        "  month.append(z)\n",
        "\n",
        "df['mois_num'] = month\n",
        "\n",
        "df['mois_num'].value_counts()"
      ],
      "execution_count": 8,
      "outputs": [
        {
          "output_type": "execute_result",
          "data": {
            "text/plain": [
              "10.0    310\n",
              "3.0     288\n",
              "4.0     259\n",
              "8.0     250\n",
              "5.0     245\n",
              "9.0     244\n",
              "11.0    244\n",
              "2.0     234\n",
              "7.0     212\n",
              "6.0     195\n",
              "12.0    169\n",
              "1.0     160\n",
              "Name: mois_num, dtype: int64"
            ]
          },
          "metadata": {},
          "execution_count": 8
        }
      ]
    },
    {
      "cell_type": "code",
      "metadata": {
        "id": "2OAITAww3LcJ"
      },
      "source": [
        "day = []\n",
        "\n",
        "for i in range(len(df)):\n",
        "  day.append(1)\n",
        "\n",
        "df_date = pd.DataFrame({'year': df['Year'],\n",
        "                        'month': df['mois_num'],\n",
        "                        'day': day}) \n",
        "\n",
        "df['date_num'] = pd.to_datetime(df_date)"
      ],
      "execution_count": 9,
      "outputs": []
    },
    {
      "cell_type": "code",
      "metadata": {
        "id": "r67kZgv4UH_0",
        "colab": {
          "base_uri": "https://localhost:8080/"
        },
        "outputId": "82e74c49-d122-4696-d722-7122ff87aad6"
      },
      "source": [
        "# date to quarter\n",
        "\n",
        "df['quarter'] = df['date_num'].dt.to_period('Q')\n",
        "\n",
        "df['quarter'].value_counts().sort_index()"
      ],
      "execution_count": 10,
      "outputs": [
        {
          "output_type": "execute_result",
          "data": {
            "text/plain": [
              "2014Q3      8\n",
              "2014Q4     21\n",
              "2015Q1     19\n",
              "2015Q2     16\n",
              "2015Q3     24\n",
              "2015Q4     38\n",
              "2016Q1     50\n",
              "2016Q2     82\n",
              "2016Q3    106\n",
              "2016Q4    102\n",
              "2017Q1     97\n",
              "2017Q2     96\n",
              "2017Q3     94\n",
              "2017Q4     98\n",
              "2018Q1    108\n",
              "2018Q2     99\n",
              "2018Q3    115\n",
              "2018Q4    149\n",
              "2019Q1    121\n",
              "2019Q2    117\n",
              "2019Q3     72\n",
              "2019Q4     98\n",
              "2020Q1    130\n",
              "2020Q2    179\n",
              "2020Q3    209\n",
              "2020Q4    217\n",
              "2021Q1    157\n",
              "2021Q2    110\n",
              "2021Q3     78\n",
              "Freq: Q-DEC, Name: quarter, dtype: int64"
            ]
          },
          "metadata": {},
          "execution_count": 10
        }
      ]
    },
    {
      "cell_type": "code",
      "metadata": {
        "id": "Lk4kgXYYbQrA",
        "colab": {
          "base_uri": "https://localhost:8080/",
          "height": 359
        },
        "outputId": "c6708972-0ede-44bc-dbe2-f03bcc2efedf"
      },
      "source": [
        "df.head(10)"
      ],
      "execution_count": 11,
      "outputs": [
        {
          "output_type": "execute_result",
          "data": {
            "text/html": [
              "<div>\n",
              "<style scoped>\n",
              "    .dataframe tbody tr th:only-of-type {\n",
              "        vertical-align: middle;\n",
              "    }\n",
              "\n",
              "    .dataframe tbody tr th {\n",
              "        vertical-align: top;\n",
              "    }\n",
              "\n",
              "    .dataframe thead th {\n",
              "        text-align: right;\n",
              "    }\n",
              "</style>\n",
              "<table border=\"1\" class=\"dataframe\">\n",
              "  <thead>\n",
              "    <tr style=\"text-align: right;\">\n",
              "      <th></th>\n",
              "      <th>Unnamed: 0</th>\n",
              "      <th>Statement</th>\n",
              "      <th>Link</th>\n",
              "      <th>Date</th>\n",
              "      <th>Source</th>\n",
              "      <th>Label</th>\n",
              "      <th>State</th>\n",
              "      <th>Year</th>\n",
              "      <th>fake</th>\n",
              "      <th>Month</th>\n",
              "      <th>mois</th>\n",
              "      <th>mois_num</th>\n",
              "      <th>date_num</th>\n",
              "      <th>quarter</th>\n",
              "    </tr>\n",
              "  </thead>\n",
              "  <tbody>\n",
              "    <tr>\n",
              "      <th>0</th>\n",
              "      <td>0.0</td>\n",
              "      <td>“California voters to be able to download ball...</td>\n",
              "      <td>https://www.politifact.com/factchecks/2021/aug...</td>\n",
              "      <td>• August 27, 2021</td>\n",
              "      <td>Larry Elder</td>\n",
              "      <td>barely-true</td>\n",
              "      <td>california</td>\n",
              "      <td>2021</td>\n",
              "      <td>1</td>\n",
              "      <td>August</td>\n",
              "      <td>August</td>\n",
              "      <td>8.0</td>\n",
              "      <td>2021-08-01</td>\n",
              "      <td>2021Q3</td>\n",
              "    </tr>\n",
              "    <tr>\n",
              "      <th>1</th>\n",
              "      <td>1.0</td>\n",
              "      <td>“CA inmate pregnant after being forced to shar...</td>\n",
              "      <td>https://www.politifact.com/factchecks/2021/aug...</td>\n",
              "      <td>• August 18, 2021</td>\n",
              "      <td>Viral image</td>\n",
              "      <td>false</td>\n",
              "      <td>california</td>\n",
              "      <td>2021</td>\n",
              "      <td>1</td>\n",
              "      <td>August</td>\n",
              "      <td>August</td>\n",
              "      <td>8.0</td>\n",
              "      <td>2021-08-01</td>\n",
              "      <td>2021Q3</td>\n",
              "    </tr>\n",
              "    <tr>\n",
              "      <th>2</th>\n",
              "      <td>2.0</td>\n",
              "      <td>“Due to the new ‘delta variant’ California wil...</td>\n",
              "      <td>https://www.politifact.com/factchecks/2021/aug...</td>\n",
              "      <td>• August 6, 2021</td>\n",
              "      <td>Viral image</td>\n",
              "      <td>false</td>\n",
              "      <td>california</td>\n",
              "      <td>2021</td>\n",
              "      <td>1</td>\n",
              "      <td>August</td>\n",
              "      <td>August</td>\n",
              "      <td>8.0</td>\n",
              "      <td>2021-08-01</td>\n",
              "      <td>2021Q3</td>\n",
              "    </tr>\n",
              "    <tr>\n",
              "      <th>3</th>\n",
              "      <td>3.0</td>\n",
              "      <td>“Ambassador Susan Rice Tribunal, Gavin Newsom ...</td>\n",
              "      <td>https://www.politifact.com/factchecks/2021/jul...</td>\n",
              "      <td>r • July 26, 2021</td>\n",
              "      <td>Facebook posts</td>\n",
              "      <td>pants-fire</td>\n",
              "      <td>california</td>\n",
              "      <td>2021</td>\n",
              "      <td>1</td>\n",
              "      <td>rJuly</td>\n",
              "      <td>July</td>\n",
              "      <td>7.0</td>\n",
              "      <td>2021-07-01</td>\n",
              "      <td>2021Q3</td>\n",
              "    </tr>\n",
              "    <tr>\n",
              "      <th>4</th>\n",
              "      <td>4.0</td>\n",
              "      <td>“California has a personal belief exemption to...</td>\n",
              "      <td>https://www.politifact.com/factchecks/2021/jul...</td>\n",
              "      <td>a • July 23, 2021</td>\n",
              "      <td>Instagram posts</td>\n",
              "      <td>false</td>\n",
              "      <td>california</td>\n",
              "      <td>2021</td>\n",
              "      <td>1</td>\n",
              "      <td>aJuly</td>\n",
              "      <td>July</td>\n",
              "      <td>7.0</td>\n",
              "      <td>2021-07-01</td>\n",
              "      <td>2021Q3</td>\n",
              "    </tr>\n",
              "    <tr>\n",
              "      <th>5</th>\n",
              "      <td>5.0</td>\n",
              "      <td>“Newly obtained emails show UCSF harvesting th...</td>\n",
              "      <td>https://www.politifact.com/factchecks/2021/jul...</td>\n",
              "      <td>a • July 16, 2021</td>\n",
              "      <td>Facebook posts</td>\n",
              "      <td>false</td>\n",
              "      <td>california</td>\n",
              "      <td>2021</td>\n",
              "      <td>1</td>\n",
              "      <td>aJuly</td>\n",
              "      <td>July</td>\n",
              "      <td>7.0</td>\n",
              "      <td>2021-07-01</td>\n",
              "      <td>2021Q3</td>\n",
              "    </tr>\n",
              "    <tr>\n",
              "      <th>6</th>\n",
              "      <td>6.0</td>\n",
              "      <td>Says in February Facebook post that \"Britney w...</td>\n",
              "      <td>https://www.politifact.com/factchecks/2021/jul...</td>\n",
              "      <td>r • July 14, 2021</td>\n",
              "      <td>Facebook posts</td>\n",
              "      <td>barely-true</td>\n",
              "      <td>california</td>\n",
              "      <td>2021</td>\n",
              "      <td>1</td>\n",
              "      <td>rJuly</td>\n",
              "      <td>July</td>\n",
              "      <td>7.0</td>\n",
              "      <td>2021-07-01</td>\n",
              "      <td>2021Q3</td>\n",
              "    </tr>\n",
              "    <tr>\n",
              "      <th>7</th>\n",
              "      <td>7.0</td>\n",
              "      <td>“San Francisco Allowing Children to ‘Consent’ ...</td>\n",
              "      <td>https://www.politifact.com/factchecks/2021/jul...</td>\n",
              "      <td>ón • July 8, 2021</td>\n",
              "      <td>Facebook posts</td>\n",
              "      <td>barely-true</td>\n",
              "      <td>california</td>\n",
              "      <td>2021</td>\n",
              "      <td>1</td>\n",
              "      <td>ónJuly</td>\n",
              "      <td>July</td>\n",
              "      <td>7.0</td>\n",
              "      <td>2021-07-01</td>\n",
              "      <td>2021Q3</td>\n",
              "    </tr>\n",
              "    <tr>\n",
              "      <th>8</th>\n",
              "      <td>8.0</td>\n",
              "      <td>“California literally just told everyone to no...</td>\n",
              "      <td>https://www.politifact.com/factchecks/2021/jul...</td>\n",
              "      <td>ka • July 2, 2021</td>\n",
              "      <td>Facebook posts</td>\n",
              "      <td>false</td>\n",
              "      <td>california</td>\n",
              "      <td>2021</td>\n",
              "      <td>1</td>\n",
              "      <td>kaJuly</td>\n",
              "      <td>July</td>\n",
              "      <td>7.0</td>\n",
              "      <td>2021-07-01</td>\n",
              "      <td>2021Q3</td>\n",
              "    </tr>\n",
              "    <tr>\n",
              "      <th>9</th>\n",
              "      <td>9.0</td>\n",
              "      <td>“Maxine Waters just introduced a bill to re-na...</td>\n",
              "      <td>https://www.politifact.com/factchecks/2021/jun...</td>\n",
              "      <td>l • June 25, 2021</td>\n",
              "      <td>Facebook posts</td>\n",
              "      <td>pants-fire</td>\n",
              "      <td>california</td>\n",
              "      <td>2021</td>\n",
              "      <td>1</td>\n",
              "      <td>lJune</td>\n",
              "      <td>June</td>\n",
              "      <td>6.0</td>\n",
              "      <td>2021-06-01</td>\n",
              "      <td>2021Q2</td>\n",
              "    </tr>\n",
              "  </tbody>\n",
              "</table>\n",
              "</div>"
            ],
            "text/plain": [
              "   Unnamed: 0  ... quarter\n",
              "0         0.0  ...  2021Q3\n",
              "1         1.0  ...  2021Q3\n",
              "2         2.0  ...  2021Q3\n",
              "3         3.0  ...  2021Q3\n",
              "4         4.0  ...  2021Q3\n",
              "5         5.0  ...  2021Q3\n",
              "6         6.0  ...  2021Q3\n",
              "7         7.0  ...  2021Q3\n",
              "8         8.0  ...  2021Q3\n",
              "9         9.0  ...  2021Q2\n",
              "\n",
              "[10 rows x 14 columns]"
            ]
          },
          "metadata": {},
          "execution_count": 11
        }
      ]
    },
    {
      "cell_type": "markdown",
      "metadata": {
        "id": "7_MhA1Oe_Pwz"
      },
      "source": [
        "**Graphique 1: nombre de déclaration par trimestre** \n",
        "\n",
        "\n"
      ]
    },
    {
      "cell_type": "code",
      "metadata": {
        "id": "hIDjGaj12uIH",
        "colab": {
          "base_uri": "https://localhost:8080/",
          "height": 391
        },
        "outputId": "bb8ed066-e263-4487-e543-8a27afba31b2"
      },
      "source": [
        "import matplotlib.pyplot as plt\n",
        "\n",
        "fig, ax = plt.subplots()\n",
        "\n",
        "fig.set_size_inches(10, 6)\n",
        "\n",
        "ax = df['quarter'].value_counts().sort_index().plot(ax=ax, kind='line')\n",
        "\n",
        "ax.axvline(\"2020Q4\", color=\"red\", linestyle=\"--\")\n",
        "\n",
        "ax.axvline(\"2016Q4\", color=\"red\", linestyle=\"--\")\n",
        "\n",
        "ax.axvline(\"2018Q4\", color=\"red\", linestyle=\"--\")\n"
      ],
      "execution_count": 12,
      "outputs": [
        {
          "output_type": "execute_result",
          "data": {
            "text/plain": [
              "<matplotlib.lines.Line2D at 0x7f5b6d864e10>"
            ]
          },
          "metadata": {},
          "execution_count": 12
        },
        {
          "output_type": "display_data",
          "data": {
            "image/png": "[encoded data removed]",
            "text/plain": [
              "<Figure size 720x432 with 1 Axes>"
            ]
          },
          "metadata": {
            "needs_background": "light"
          }
        }
      ]
    },
    {
      "cell_type": "markdown",
      "metadata": {
        "id": "jVC62flZDRL4"
      },
      "source": [
        "**Graphique 2: proportion de fausses nouvelles par trimestre**"
      ]
    },
    {
      "cell_type": "code",
      "metadata": {
        "id": "p651nSNoamsa",
        "colab": {
          "base_uri": "https://localhost:8080/",
          "height": 405
        },
        "outputId": "fe5825c4-74ce-40b9-deb8-53855f69d234"
      },
      "source": [
        "df['fake'] = pd.to_numeric(df['fake'])\n",
        "\n",
        "Mean = df.groupby('quarter')['fake'].mean()\n",
        "Std = df.groupby('quarter')['fake'].std()\n",
        "\n",
        "ts_fake = pd.DataFrame({'Quarter': Mean.index ,'fake_news': Mean})\n",
        "\n",
        "g2 = ts_fake.plot('Quarter', 'fake_news', figsize = (10,6), legend = False)\n",
        "\n",
        "g2.axvline(\"2020Q4\", color=\"red\", linestyle=\"--\")\n",
        "\n",
        "g2.axvline(\"2016Q4\", color=\"red\", linestyle=\"--\")\n",
        "\n",
        "g2.axvline(\"2018Q4\", color=\"red\", linestyle=\"--\")\n"
      ],
      "execution_count": 13,
      "outputs": [
        {
          "output_type": "execute_result",
          "data": {
            "text/plain": [
              "<matplotlib.lines.Line2D at 0x7f5b6ddb88d0>"
            ]
          },
          "metadata": {},
          "execution_count": 13
        },
        {
          "output_type": "display_data",
          "data": {
            "image/png": "[encoded data removed]",
            "text/plain": [
              "<Figure size 720x432 with 1 Axes>"
            ]
          },
          "metadata": {
            "needs_background": "light"
          }
        }
      ]
    },
    {
      "cell_type": "markdown",
      "metadata": {
        "id": "JMdDKdKPPx5i"
      },
      "source": [
        "Binary variable of election"
      ]
    },
    {
      "cell_type": "code",
      "metadata": {
        "id": "lUO2cco0Qlf-",
        "colab": {
          "base_uri": "https://localhost:8080/"
        },
        "outputId": "ee989e0b-7f97-4b09-bd77-6c50d2393743"
      },
      "source": [
        "dft = df.copy()\n",
        "\n",
        "sub_data = dft.loc[dft['quarter'] == '2018Q4']\n",
        "\n",
        "sub_data['mois_num'].value_counts()\n"
      ],
      "execution_count": 14,
      "outputs": [
        {
          "output_type": "execute_result",
          "data": {
            "text/plain": [
              "10.0    83\n",
              "11.0    39\n",
              "12.0    27\n",
              "Name: mois_num, dtype: int64"
            ]
          },
          "metadata": {},
          "execution_count": 14
        }
      ]
    },
    {
      "cell_type": "code",
      "metadata": {
        "id": "CU7xFBshW7ZJ",
        "colab": {
          "base_uri": "https://localhost:8080/"
        },
        "outputId": "055d8f49-dfc0-4654-f9eb-c13544d26b92"
      },
      "source": [
        "import datetime as dt\n",
        "\n",
        "# variable indicating the semester\n",
        "\n",
        "df['quarter_num'] = df['quarter'].astype(str)\n",
        "\n",
        "df['quarter_num'] = pd.to_datetime(df['quarter_num'].str.replace(r'(Q\\d) (\\d+)', r'\\2-\\1'), errors='coerce')\n",
        "\n",
        "df['quarter_num'] = df['quarter_num'].map(dt.datetime.toordinal)\n",
        "\n",
        "df.loc[df['quarter_num'] == 1] = None\n",
        "\n",
        "quarter_list = df['quarter_num'].sort_values().unique().tolist()\n",
        "\n",
        "quarter_list = quarter_list[:-1]\n",
        "\n",
        "quarter_list\n",
        "\n",
        "# replacing values by simple numbers\n",
        "\n",
        "df['quarter_number'] = ''\n",
        "\n",
        "for i in range(len(df)):\n",
        "  for j in range(len(quarter_list)):\n",
        "    if df['quarter_num'][i] == quarter_list[j]:\n",
        "      df['quarter_number'][i] = j+1\n",
        "      break\n",
        "    else:\n",
        "      df['quarter_number'][i] = None\n",
        "\n",
        "df['quarter_number'].value_counts().sort_index()\n"
      ],
      "execution_count": 15,
      "outputs": [
        {
          "output_type": "stream",
          "name": "stderr",
          "text": [
            "/usr/local/lib/python3.7/dist-packages/ipykernel_launcher.py:29: SettingWithCopyWarning: \n",
            "A value is trying to be set on a copy of a slice from a DataFrame\n",
            "\n",
            "See the caveats in the documentation: https://pandas.pydata.org/pandas-docs/stable/user_guide/indexing.html#returning-a-view-versus-a-copy\n",
            "/usr/local/lib/python3.7/dist-packages/ipykernel_launcher.py:26: SettingWithCopyWarning: \n",
            "A value is trying to be set on a copy of a slice from a DataFrame\n",
            "\n",
            "See the caveats in the documentation: https://pandas.pydata.org/pandas-docs/stable/user_guide/indexing.html#returning-a-view-versus-a-copy\n"
          ]
        },
        {
          "output_type": "execute_result",
          "data": {
            "text/plain": [
              "1       8\n",
              "2      21\n",
              "3      19\n",
              "4      16\n",
              "5      24\n",
              "6      38\n",
              "7      50\n",
              "8      82\n",
              "9     106\n",
              "10    102\n",
              "11     97\n",
              "12     96\n",
              "13     94\n",
              "14     98\n",
              "15    108\n",
              "16     99\n",
              "17    115\n",
              "18    149\n",
              "19    121\n",
              "20    117\n",
              "21     72\n",
              "22     98\n",
              "23    130\n",
              "24    179\n",
              "25    209\n",
              "26    217\n",
              "27    157\n",
              "28    110\n",
              "29     78\n",
              "Name: quarter_number, dtype: int64"
            ]
          },
          "metadata": {},
          "execution_count": 15
        }
      ]
    },
    {
      "cell_type": "code",
      "metadata": {
        "id": "ZaUoXD4whayl",
        "colab": {
          "base_uri": "https://localhost:8080/"
        },
        "outputId": "748c7bf8-c90b-4031-89ad-6f3664235686"
      },
      "source": [
        "list_elec = list(range(9,11)) +list(range(25,27))\n",
        "\n",
        "list_elec"
      ],
      "execution_count": 16,
      "outputs": [
        {
          "output_type": "execute_result",
          "data": {
            "text/plain": [
              "[9, 10, 25, 26]"
            ]
          },
          "metadata": {},
          "execution_count": 16
        }
      ]
    },
    {
      "cell_type": "code",
      "metadata": {
        "id": "UAyK3QWUklnd",
        "colab": {
          "base_uri": "https://localhost:8080/"
        },
        "outputId": "b266d007-5288-4ac3-9de4-a41c5e877d21"
      },
      "source": [
        "\n",
        "df['election'] = ''\n",
        "\n",
        "list_elec_year = ['2016', '2020']\n",
        "\n",
        "list_elec_month = list(range(6,12))\n",
        "\n",
        "for i in range(len(df)):\n",
        "  if (df['mois_num'][i] in list_elec_month and df['Year'][i] in list_elec_year):\n",
        "    df['election'][i] = 1\n",
        "  else:\n",
        "    df['election'][i] = 0\n",
        "\n",
        "df['election'].value_counts().sort_index()"
      ],
      "execution_count": 17,
      "outputs": [
        {
          "output_type": "stream",
          "name": "stderr",
          "text": [
            "/usr/local/lib/python3.7/dist-packages/ipykernel_launcher.py:12: SettingWithCopyWarning: \n",
            "A value is trying to be set on a copy of a slice from a DataFrame\n",
            "\n",
            "See the caveats in the documentation: https://pandas.pydata.org/pandas-docs/stable/user_guide/indexing.html#returning-a-view-versus-a-copy\n",
            "  if sys.path[0] == '':\n",
            "/usr/local/lib/python3.7/dist-packages/ipykernel_launcher.py:10: SettingWithCopyWarning: \n",
            "A value is trying to be set on a copy of a slice from a DataFrame\n",
            "\n",
            "See the caveats in the documentation: https://pandas.pydata.org/pandas-docs/stable/user_guide/indexing.html#returning-a-view-versus-a-copy\n",
            "  # Remove the CWD from sys.path while we load stuff.\n"
          ]
        },
        {
          "output_type": "execute_result",
          "data": {
            "text/plain": [
              "0    2208\n",
              "1     640\n",
              "Name: election, dtype: int64"
            ]
          },
          "metadata": {},
          "execution_count": 17
        }
      ]
    },
    {
      "cell_type": "markdown",
      "metadata": {
        "id": "9Fc594WUtZRf"
      },
      "source": [
        "Season variable"
      ]
    },
    {
      "cell_type": "code",
      "metadata": {
        "colab": {
          "base_uri": "https://localhost:8080/"
        },
        "id": "3lsLjPsStYx-",
        "outputId": "bfea0fc0-3d6c-4fb5-a7dd-7a8388b4f7e8"
      },
      "source": [
        "df['Saison'] = ''\n",
        "\n",
        "list_automne = [10,11,12]\n",
        "list_hiver = [1,2,3]\n",
        "list_printemps = [4,5,6]\n",
        "list_été = [7,8,9]\n",
        "\n",
        "for i in range(len(df)):\n",
        "  if df['mois_num'][i] in list_automne:\n",
        "    df['Saison'][i] = 'automne'\n",
        "  elif df['mois_num'][i] in list_hiver:\n",
        "    df['Saison'][i] = 'hiver'\n",
        "  elif df['mois_num'][i] in list_printemps:\n",
        "    df['Saison'][i] = 'printemps'\n",
        "  elif df['mois_num'][i] in list_été:\n",
        "    df['Saison'][i] = 'été'\n",
        "  else:\n",
        "    df['Saison'][i] = None\n",
        "\n",
        "df['Saison'].value_counts().sort_index()"
      ],
      "execution_count": 18,
      "outputs": [
        {
          "output_type": "stream",
          "name": "stderr",
          "text": [
            "/usr/local/lib/python3.7/dist-packages/ipykernel_launcher.py:16: SettingWithCopyWarning: \n",
            "A value is trying to be set on a copy of a slice from a DataFrame\n",
            "\n",
            "See the caveats in the documentation: https://pandas.pydata.org/pandas-docs/stable/user_guide/indexing.html#returning-a-view-versus-a-copy\n",
            "  app.launch_new_instance()\n",
            "/usr/local/lib/python3.7/dist-packages/ipykernel_launcher.py:14: SettingWithCopyWarning: \n",
            "A value is trying to be set on a copy of a slice from a DataFrame\n",
            "\n",
            "See the caveats in the documentation: https://pandas.pydata.org/pandas-docs/stable/user_guide/indexing.html#returning-a-view-versus-a-copy\n",
            "  \n",
            "/usr/local/lib/python3.7/dist-packages/ipykernel_launcher.py:12: SettingWithCopyWarning: \n",
            "A value is trying to be set on a copy of a slice from a DataFrame\n",
            "\n",
            "See the caveats in the documentation: https://pandas.pydata.org/pandas-docs/stable/user_guide/indexing.html#returning-a-view-versus-a-copy\n",
            "  if sys.path[0] == '':\n",
            "/usr/local/lib/python3.7/dist-packages/ipykernel_launcher.py:10: SettingWithCopyWarning: \n",
            "A value is trying to be set on a copy of a slice from a DataFrame\n",
            "\n",
            "See the caveats in the documentation: https://pandas.pydata.org/pandas-docs/stable/user_guide/indexing.html#returning-a-view-versus-a-copy\n",
            "  # Remove the CWD from sys.path while we load stuff.\n",
            "/usr/local/lib/python3.7/dist-packages/ipykernel_launcher.py:18: SettingWithCopyWarning: \n",
            "A value is trying to be set on a copy of a slice from a DataFrame\n",
            "\n",
            "See the caveats in the documentation: https://pandas.pydata.org/pandas-docs/stable/user_guide/indexing.html#returning-a-view-versus-a-copy\n"
          ]
        },
        {
          "output_type": "execute_result",
          "data": {
            "text/plain": [
              "automne      723\n",
              "hiver        682\n",
              "printemps    699\n",
              "été          706\n",
              "Name: Saison, dtype: int64"
            ]
          },
          "metadata": {},
          "execution_count": 18
        }
      ]
    },
    {
      "cell_type": "markdown",
      "metadata": {
        "id": "EbD6E2_nhPCY"
      },
      "source": [
        "Model 1 \n"
      ]
    },
    {
      "cell_type": "code",
      "metadata": {
        "colab": {
          "base_uri": "https://localhost:8080/"
        },
        "id": "fSm5JjceO97V",
        "outputId": "f538eeea-54ef-4028-b815-799297d77210"
      },
      "source": [
        "pip install stargazer"
      ],
      "execution_count": 19,
      "outputs": [
        {
          "output_type": "stream",
          "name": "stdout",
          "text": [
            "Requirement already satisfied: stargazer in /usr/local/lib/python3.7/dist-packages (0.0.5)\n"
          ]
        }
      ]
    },
    {
      "cell_type": "code",
      "metadata": {
        "id": "n-r3LeSlzbHo",
        "colab": {
          "base_uri": "https://localhost:8080/"
        },
        "outputId": "44b66af2-5074-4446-f0f9-8155e6771a30"
      },
      "source": [
        "\n",
        "import statsmodels.api as sm\n",
        "import statsmodels.formula.api as smf\n",
        "from stargazer.stargazer import Stargazer, LineLocation"
      ],
      "execution_count": 20,
      "outputs": [
        {
          "output_type": "stream",
          "name": "stderr",
          "text": [
            "/usr/local/lib/python3.7/dist-packages/statsmodels/tools/_testing.py:19: FutureWarning: pandas.util.testing is deprecated. Use the functions in the public API at pandas.testing instead.\n",
            "  import pandas.util.testing as tm\n"
          ]
        }
      ]
    },
    {
      "cell_type": "markdown",
      "metadata": {
        "id": "IFsELESsd9c8"
      },
      "source": [
        "**Descriptive Statistics**"
      ]
    },
    {
      "cell_type": "code",
      "metadata": {
        "id": "vIH2UySJOHec",
        "colab": {
          "base_uri": "https://localhost:8080/",
          "height": 111
        },
        "outputId": "c2e912b5-e57e-48ac-cd0b-4b2c2d436c5c"
      },
      "source": [
        "tab1 = pd.concat([df['fake'].value_counts(),df['fake'].value_counts(normalize = True).round(2).mul(100)],axis =1 , keys = ['Fréquence', 'Pourcentage'])\n",
        "tab1"
      ],
      "execution_count": 21,
      "outputs": [
        {
          "output_type": "execute_result",
          "data": {
            "text/html": [
              "<div>\n",
              "<style scoped>\n",
              "    .dataframe tbody tr th:only-of-type {\n",
              "        vertical-align: middle;\n",
              "    }\n",
              "\n",
              "    .dataframe tbody tr th {\n",
              "        vertical-align: top;\n",
              "    }\n",
              "\n",
              "    .dataframe thead th {\n",
              "        text-align: right;\n",
              "    }\n",
              "</style>\n",
              "<table border=\"1\" class=\"dataframe\">\n",
              "  <thead>\n",
              "    <tr style=\"text-align: right;\">\n",
              "      <th></th>\n",
              "      <th>Fréquence</th>\n",
              "      <th>Pourcentage</th>\n",
              "    </tr>\n",
              "  </thead>\n",
              "  <tbody>\n",
              "    <tr>\n",
              "      <th>1.0</th>\n",
              "      <td>1471</td>\n",
              "      <td>52.0</td>\n",
              "    </tr>\n",
              "    <tr>\n",
              "      <th>0.0</th>\n",
              "      <td>1339</td>\n",
              "      <td>48.0</td>\n",
              "    </tr>\n",
              "  </tbody>\n",
              "</table>\n",
              "</div>"
            ],
            "text/plain": [
              "     Fréquence  Pourcentage\n",
              "1.0       1471         52.0\n",
              "0.0       1339         48.0"
            ]
          },
          "metadata": {},
          "execution_count": 21
        }
      ]
    },
    {
      "cell_type": "code",
      "metadata": {
        "id": "uo9HmEsEUvQM",
        "colab": {
          "base_uri": "https://localhost:8080/",
          "height": 359
        },
        "outputId": "1a7bc249-2792-4b1e-f5dc-04dee7750191"
      },
      "source": [
        "tab2 = pd.concat([df['Source'].value_counts().head(10), df['Source'].value_counts(normalize = True).mul(100).head(10).round(2)],\n",
        "                 axis = 1, keys = ['Fréquence', 'Pourcentage'])\n",
        "\n",
        "tab2"
      ],
      "execution_count": 22,
      "outputs": [
        {
          "output_type": "execute_result",
          "data": {
            "text/html": [
              "<div>\n",
              "<style scoped>\n",
              "    .dataframe tbody tr th:only-of-type {\n",
              "        vertical-align: middle;\n",
              "    }\n",
              "\n",
              "    .dataframe tbody tr th {\n",
              "        vertical-align: top;\n",
              "    }\n",
              "\n",
              "    .dataframe thead th {\n",
              "        text-align: right;\n",
              "    }\n",
              "</style>\n",
              "<table border=\"1\" class=\"dataframe\">\n",
              "  <thead>\n",
              "    <tr style=\"text-align: right;\">\n",
              "      <th></th>\n",
              "      <th>Fréquence</th>\n",
              "      <th>Pourcentage</th>\n",
              "    </tr>\n",
              "  </thead>\n",
              "  <tbody>\n",
              "    <tr>\n",
              "      <th>Facebook posts</th>\n",
              "      <td>202</td>\n",
              "      <td>7.19</td>\n",
              "    </tr>\n",
              "    <tr>\n",
              "      <th>Donald Trump</th>\n",
              "      <td>137</td>\n",
              "      <td>4.88</td>\n",
              "    </tr>\n",
              "    <tr>\n",
              "      <th>Viral image</th>\n",
              "      <td>58</td>\n",
              "      <td>2.06</td>\n",
              "    </tr>\n",
              "    <tr>\n",
              "      <th>Andrew Cuomo</th>\n",
              "      <td>38</td>\n",
              "      <td>1.35</td>\n",
              "    </tr>\n",
              "    <tr>\n",
              "      <th>Ted Cruz</th>\n",
              "      <td>35</td>\n",
              "      <td>1.25</td>\n",
              "    </tr>\n",
              "    <tr>\n",
              "      <th>Greg Abbott</th>\n",
              "      <td>27</td>\n",
              "      <td>0.96</td>\n",
              "    </tr>\n",
              "    <tr>\n",
              "      <th>Kamala Harris</th>\n",
              "      <td>26</td>\n",
              "      <td>0.93</td>\n",
              "    </tr>\n",
              "    <tr>\n",
              "      <th>Bloggers</th>\n",
              "      <td>26</td>\n",
              "      <td>0.93</td>\n",
              "    </tr>\n",
              "    <tr>\n",
              "      <th>Rick Scott</th>\n",
              "      <td>25</td>\n",
              "      <td>0.89</td>\n",
              "    </tr>\n",
              "    <tr>\n",
              "      <th>Bernie Sanders</th>\n",
              "      <td>24</td>\n",
              "      <td>0.85</td>\n",
              "    </tr>\n",
              "  </tbody>\n",
              "</table>\n",
              "</div>"
            ],
            "text/plain": [
              "                Fréquence  Pourcentage\n",
              "Facebook posts        202         7.19\n",
              "Donald Trump          137         4.88\n",
              "Viral image            58         2.06\n",
              "Andrew Cuomo           38         1.35\n",
              "Ted Cruz               35         1.25\n",
              "Greg Abbott            27         0.96\n",
              "Kamala Harris          26         0.93\n",
              "Bloggers               26         0.93\n",
              "Rick Scott             25         0.89\n",
              "Bernie Sanders         24         0.85"
            ]
          },
          "metadata": {},
          "execution_count": 22
        }
      ]
    },
    {
      "cell_type": "code",
      "metadata": {
        "id": "wPZY8keSOdta",
        "colab": {
          "base_uri": "https://localhost:8080/",
          "height": 483
        },
        "outputId": "07e367f5-bba9-461c-d203-13bb06c6ce55"
      },
      "source": [
        "tab3 = pd.concat([df['State'].value_counts(), df['State'].value_counts(normalize = True).mul(100).round(2)],\n",
        "                 axis = 1, keys = ['Fréquence', 'Pourcentage'])\n",
        "\n",
        "tab3"
      ],
      "execution_count": 23,
      "outputs": [
        {
          "output_type": "execute_result",
          "data": {
            "text/html": [
              "<div>\n",
              "<style scoped>\n",
              "    .dataframe tbody tr th:only-of-type {\n",
              "        vertical-align: middle;\n",
              "    }\n",
              "\n",
              "    .dataframe tbody tr th {\n",
              "        vertical-align: top;\n",
              "    }\n",
              "\n",
              "    .dataframe thead th {\n",
              "        text-align: right;\n",
              "    }\n",
              "</style>\n",
              "<table border=\"1\" class=\"dataframe\">\n",
              "  <thead>\n",
              "    <tr style=\"text-align: right;\">\n",
              "      <th></th>\n",
              "      <th>Fréquence</th>\n",
              "      <th>Pourcentage</th>\n",
              "    </tr>\n",
              "  </thead>\n",
              "  <tbody>\n",
              "    <tr>\n",
              "      <th>california</th>\n",
              "      <td>299</td>\n",
              "      <td>10.64</td>\n",
              "    </tr>\n",
              "    <tr>\n",
              "      <th>florida</th>\n",
              "      <td>298</td>\n",
              "      <td>10.60</td>\n",
              "    </tr>\n",
              "    <tr>\n",
              "      <th>texas</th>\n",
              "      <td>297</td>\n",
              "      <td>10.57</td>\n",
              "    </tr>\n",
              "    <tr>\n",
              "      <th>wisconsin</th>\n",
              "      <td>291</td>\n",
              "      <td>10.36</td>\n",
              "    </tr>\n",
              "    <tr>\n",
              "      <th>north-carolina</th>\n",
              "      <td>289</td>\n",
              "      <td>10.28</td>\n",
              "    </tr>\n",
              "    <tr>\n",
              "      <th>virginia</th>\n",
              "      <td>288</td>\n",
              "      <td>10.25</td>\n",
              "    </tr>\n",
              "    <tr>\n",
              "      <th>new-york</th>\n",
              "      <td>246</td>\n",
              "      <td>8.75</td>\n",
              "    </tr>\n",
              "    <tr>\n",
              "      <th>illinois</th>\n",
              "      <td>195</td>\n",
              "      <td>6.94</td>\n",
              "    </tr>\n",
              "    <tr>\n",
              "      <th>missouri</th>\n",
              "      <td>192</td>\n",
              "      <td>6.83</td>\n",
              "    </tr>\n",
              "    <tr>\n",
              "      <th>pennsylvania</th>\n",
              "      <td>163</td>\n",
              "      <td>5.80</td>\n",
              "    </tr>\n",
              "    <tr>\n",
              "      <th>west-virginia</th>\n",
              "      <td>103</td>\n",
              "      <td>3.67</td>\n",
              "    </tr>\n",
              "    <tr>\n",
              "      <th>michigan</th>\n",
              "      <td>65</td>\n",
              "      <td>2.31</td>\n",
              "    </tr>\n",
              "    <tr>\n",
              "      <th>iowa</th>\n",
              "      <td>51</td>\n",
              "      <td>1.81</td>\n",
              "    </tr>\n",
              "    <tr>\n",
              "      <th>vermont</th>\n",
              "      <td>33</td>\n",
              "      <td>1.17</td>\n",
              "    </tr>\n",
              "  </tbody>\n",
              "</table>\n",
              "</div>"
            ],
            "text/plain": [
              "                Fréquence  Pourcentage\n",
              "california            299        10.64\n",
              "florida               298        10.60\n",
              "texas                 297        10.57\n",
              "wisconsin             291        10.36\n",
              "north-carolina        289        10.28\n",
              "virginia              288        10.25\n",
              "new-york              246         8.75\n",
              "illinois              195         6.94\n",
              "missouri              192         6.83\n",
              "pennsylvania          163         5.80\n",
              "west-virginia         103         3.67\n",
              "michigan               65         2.31\n",
              "iowa                   51         1.81\n",
              "vermont                33         1.17"
            ]
          },
          "metadata": {},
          "execution_count": 23
        }
      ]
    },
    {
      "cell_type": "markdown",
      "metadata": {
        "id": "cparHGKGde3c"
      },
      "source": [
        "**Text Analysis**"
      ]
    },
    {
      "cell_type": "code",
      "metadata": {
        "id": "BbLhi_eJDPck",
        "colab": {
          "base_uri": "https://localhost:8080/"
        },
        "outputId": "7cca26b8-3a7a-4583-fa73-1d078c1e2acb"
      },
      "source": [
        "import nltk\n",
        "nltk.download('stopwords')\n",
        "nltk.download('wordnet')\n",
        "nltk.download('averaged_perceptron_tagger')\n",
        "from nltk.corpus import stopwords\n",
        "from nltk.tokenize import word_tokenize\n",
        "from nltk.tokenize import RegexpTokenizer\n",
        "from nltk import pos_tag\n",
        "from nltk.stem import WordNetLemmatizer\n",
        "from nltk.corpus import wordnet as wn\n",
        "from collections import defaultdict\n",
        "\n",
        "tokenizer = RegexpTokenizer(r'\\w+')\n",
        "\n",
        "ignore = set(stopwords.words('english'))\n",
        "\n",
        "#add words that aren't in the NLTK stopwords list\n",
        "\n",
        "new_stopwords = ['say', 'vote', 'year', 'state', 'people']\n",
        "\n",
        "ignore = ignore.union(new_stopwords)\n",
        "\n",
        "##\n",
        "\n",
        "data = df['Statement'].astype(str).tolist()\n",
        "\n",
        "data_token = [tokenizer.tokenize(w.lower()) for w in data]\n",
        "\n",
        "for l in range(len(data_token)):\n",
        "  data_token[l] = list(set(data_token[l])-ignore)"
      ],
      "execution_count": 24,
      "outputs": [
        {
          "output_type": "stream",
          "name": "stdout",
          "text": [
            "[nltk_data] Downloading package stopwords to /root/nltk_data...\n",
            "[nltk_data]   Package stopwords is already up-to-date!\n",
            "[nltk_data] Downloading package wordnet to /root/nltk_data...\n",
            "[nltk_data]   Package wordnet is already up-to-date!\n",
            "[nltk_data] Downloading package averaged_perceptron_tagger to\n",
            "[nltk_data]     /root/nltk_data...\n",
            "[nltk_data]   Package averaged_perceptron_tagger is already up-to-\n",
            "[nltk_data]       date!\n"
          ]
        }
      ]
    },
    {
      "cell_type": "code",
      "metadata": {
        "id": "78udPRTXlpxI"
      },
      "source": [
        "dat=[]\n",
        "\n",
        "# dictionnaire\n",
        "\n",
        "tag_map = defaultdict(lambda : wn.NOUN)\n",
        "tag_map['J'] = wn.ADJ\n",
        "tag_map['V'] = wn.VERB\n",
        "tag_map['R'] = wn.ADV\n",
        "\n",
        "# à chaque mot s'il ne tombe pas dans les catégorie il nous redonne un nom.\n",
        "\n",
        "for index, entry in enumerate(data_token):\n",
        "  Final_words = []\n",
        "  word_Lemmatized = WordNetLemmatizer()\n",
        "  for word, tag in pos_tag(entry): # tage indique le type de mots\n",
        "    if word.isalpha():\n",
        "      word_final = word_Lemmatized.lemmatize(word, tag_map[tag[0]])\n",
        "      Final_words.append(word_final)\n",
        "  dat.append(Final_words)\n",
        "\n",
        "data_join = [' '.join(l) for l in list(dat)]"
      ],
      "execution_count": 25,
      "outputs": []
    },
    {
      "cell_type": "markdown",
      "metadata": {
        "id": "XTOhVPe8LwLa"
      },
      "source": [
        "**Word cloud**"
      ]
    },
    {
      "cell_type": "code",
      "metadata": {
        "id": "N5BcLsriLTOT",
        "colab": {
          "base_uri": "https://localhost:8080/",
          "height": 327
        },
        "outputId": "01450544-7fa0-49eb-b968-76ef22e63c44"
      },
      "source": [
        "import matplotlib.pyplot as plt\n",
        "from wordcloud import WordCloud\n",
        "\n",
        "words = ' '.join(data_join)\n",
        "\n",
        "wordcloud = WordCloud(max_words=100, collocations=False, background_color='white', stopwords = ignore).generate(words)\n",
        "plt.figure(figsize = (10,10))\n",
        "plt.imshow(wordcloud)\n",
        "plt.axis(\"off\")\n",
        "plt.show()\n",
        "\n",
        "plt.savefig('g3_fn.png', dpi=100)"
      ],
      "execution_count": 26,
      "outputs": [
        {
          "output_type": "display_data",
          "data": {
            "image/png": "[encoded data removed]",
            "text/plain": [
              "<Figure size 720x720 with 1 Axes>"
            ]
          },
          "metadata": {
            "needs_background": "light"
          }
        },
        {
          "output_type": "display_data",
          "data": {
            "text/plain": [
              "<Figure size 432x288 with 0 Axes>"
            ]
          },
          "metadata": {}
        }
      ]
    },
    {
      "cell_type": "markdown",
      "metadata": {
        "id": "iTb0rrCyKRVu"
      },
      "source": [
        "**TF-IDF**"
      ]
    },
    {
      "cell_type": "code",
      "metadata": {
        "id": "Z7pjDyJhKUGl",
        "colab": {
          "base_uri": "https://localhost:8080/"
        },
        "outputId": "0c31553b-1d57-46be-dd06-4b9dd2e43550"
      },
      "source": [
        "from sklearn.feature_extraction.text import TfidfVectorizer \n",
        "from sklearn.feature_extraction.text import CountVectorizer\n",
        "from sklearn.feature_extraction.text import TfidfTransformer\n",
        "from sklearn.decomposition import LatentDirichletAllocation\n",
        "from wordcloud import WordCloud\n",
        "\n",
        "vectorizer = CountVectorizer(ngram_range = (1,1), min_df= 5, max_df= 0.6, stop_words='english')\n",
        "X = vectorizer.fit_transform(data_join)\n",
        "\n",
        "X.shape\n",
        "\n",
        "vocab = vectorizer.get_feature_names()\n",
        "\n",
        "for i, comp in enumerate(lda.components_):\n",
        "    vocab_comp = zip(vocab, comp)\n",
        "    sorted_words = sorted(vocab_comp, key= lambda x:x[1], reverse=True)[:10]\n",
        "    print(\"Topic \"+str(i)+\": \")\n",
        "    for t in sorted_words:\n",
        "        print(t[0],end=\" \")\n",
        "    print(\"\\n\")"
      ],
      "execution_count": 34,
      "outputs": [
        {
          "output_type": "stream",
          "name": "stdout",
          "text": [
            "Topic 0: \n",
            "say vote trump virginia election law president biden republican california \n",
            "\n",
            "Topic 1: \n",
            "tax say new state million percent school year american job \n",
            "\n"
          ]
        }
      ]
    },
    {
      "cell_type": "markdown",
      "metadata": {
        "id": "N1O3ADjZH22U"
      },
      "source": [
        "Latent Dirchlet allocation with 2 themes"
      ]
    },
    {
      "cell_type": "code",
      "metadata": {
        "id": "snLP_WU3T6V_",
        "colab": {
          "base_uri": "https://localhost:8080/",
          "height": 405
        },
        "outputId": "08437dc4-4eb8-4b01-a955-35fafa48a18f"
      },
      "source": [
        "lda = LatentDirichletAllocation(n_components=2)\n",
        "\n",
        "model = lda.fit(X)\n",
        "\n",
        "lda_output = model.transform(X)\n",
        "\n",
        "topicnames = [\"Topic\" + str(i) for i in range(1,3)]\n",
        "\n",
        "topic_share = pd.DataFrame(np.round(lda_output, 2), columns=topicnames)\n",
        "\n",
        "df_ts_share =  pd.concat([df[['quarter', 'fake']], topic_share], axis=1)\n",
        "\n",
        "dominant_topic = np.argmax(topic_share.values, axis=1)\n",
        "\n",
        "df_ts_share['dominant_topic'] = dominant_topic\n",
        "\n",
        "df1 = df_ts_share.loc[df_ts_share['dominant_topic'] == 0]\n",
        "df2 = df_ts_share.loc[df_ts_share['dominant_topic'] == 1]\n",
        "\n",
        "Mean1 = df1.groupby('quarter')['fake'].mean()\n",
        "Mean2 = df2.groupby('quarter')['fake'].mean()\n",
        "\n",
        "tab = pd.DataFrame({'Quarter': Mean1.index ,'Topic1': Mean1,'Topic2': Mean2})\n",
        "\n",
        "ax = tab.plot.line(figsize = (10,6))\n",
        "\n",
        "ax.axvline(\"2020Q4\", color=\"red\", linestyle=\"--\")\n",
        "\n",
        "ax.axvline(\"2016Q4\", color=\"red\", linestyle=\"--\")\n",
        "\n",
        "ax.axvline(\"2018Q4\", color=\"red\", linestyle=\"--\")\n"
      ],
      "execution_count": 35,
      "outputs": [
        {
          "output_type": "execute_result",
          "data": {
            "text/plain": [
              "<matplotlib.lines.Line2D at 0x7f5b3724fb10>"
            ]
          },
          "metadata": {},
          "execution_count": 35
        },
        {
          "output_type": "display_data",
          "data": {
            "image/png": "[encoded data removed]",
            "text/plain": [
              "<Figure size 720x432 with 1 Axes>"
            ]
          },
          "metadata": {
            "needs_background": "light"
          }
        }
      ]
    },
    {
      "cell_type": "code",
      "metadata": {
        "id": "sYs7xjnjQOdD",
        "colab": {
          "base_uri": "https://localhost:8080/"
        },
        "outputId": "5bbf02f0-d50a-49f0-8668-91fed0b8b8d9"
      },
      "source": [
        "sorting = np.argsort(lda.components_, axis=1)[:, ::-1] \n",
        "feature_names = np.array(vectorizer.get_feature_names())\n",
        "\n",
        "for index, topic in enumerate(lda.components_):\n",
        "    print(f'Topic #{index+1}')\n",
        "    print([vectorizer.get_feature_names()[i] for i in topic.argsort()[-50:]])\n",
        "    print('\\n')"
      ],
      "execution_count": 36,
      "outputs": [
        {
          "output_type": "stream",
          "name": "stdout",
          "text": [
            "Topic #1\n",
            "['pennsylvania', 'united', 'america', 'large', 'teacher', 'michigan', 'time', 'number', 'billion', 'use', 'world', 'education', 'national', 'new', 'month', 'support', 'make', 'illegal', 'gov', 'kill', 'california', 'west', 'democrat', 'house', 'gun', 'percent', 'million', 'wisconsin', 'governor', 'border', 'voter', 'come', 'florida', 'right', 'day', 'law', 'joe', 'ballot', 'biden', 'republican', 'election', 'carolina', 'year', 'texas', 'north', 'vote', 'school', 'virginia', 'state', 'say']\n",
            "\n",
            "\n",
            "Topic #2\n",
            "['like', 'child', 'florida', 'unemployment', 'year', 'allow', 'public', 'money', 'income', 'obama', 'billion', 'case', 'want', 'average', 'fund', 'vote', 'crime', 'health', 'nation', 'woman', 'care', 'work', 'family', 'make', 'raise', 'cut', 'low', 'missouri', 'donald', 'police', 'death', 'covid', 'time', 'york', 'job', 'pay', 'california', 'increase', 'million', 'president', 'country', 'high', 'rate', 'city', 'percent', 'american', 'new', 'trump', 'tax', 'say']\n",
            "\n",
            "\n"
          ]
        }
      ]
    },
    {
      "cell_type": "code",
      "metadata": {
        "id": "F6ogMT9s7bq-"
      },
      "source": [
        "def draw_word_cloud(index):\n",
        "  imp_words_topic=\"\"\n",
        "  comp=lda.components_[index]\n",
        "  vocab_comp = zip(vocab, comp)\n",
        "  sorted_words = sorted(vocab_comp, key= lambda x:x[1], reverse=True)[:50]\n",
        "  for word in sorted_words:\n",
        "    imp_words_topic=imp_words_topic+\" \"+word[0]\n",
        "\n",
        "  wordcloud = WordCloud(width=600, height=400, background_color = 'white', stopwords = ignore).generate(imp_words_topic)\n",
        "  plt.figure( figsize=(5,5))\n",
        "  plt.imshow(wordcloud)\n",
        "  plt.axis(\"off\")\n",
        "  plt.tight_layout()\n",
        "  plt.show()"
      ],
      "execution_count": 37,
      "outputs": []
    },
    {
      "cell_type": "markdown",
      "metadata": {
        "id": "tCIbPKriIAJB"
      },
      "source": [
        "Theme 1"
      ]
    },
    {
      "cell_type": "code",
      "metadata": {
        "id": "ANTLrs507dKc",
        "colab": {
          "base_uri": "https://localhost:8080/",
          "height": 256
        },
        "outputId": "da6d2057-3fc6-47d3-e004-fb26bd21509b"
      },
      "source": [
        "draw_word_cloud(0)"
      ],
      "execution_count": 38,
      "outputs": [
        {
          "output_type": "display_data",
          "data": {
            "image/png": "[encoded data removed]",
            "text/plain": [
              "<Figure size 360x360 with 1 Axes>"
            ]
          },
          "metadata": {
            "needs_background": "light"
          }
        }
      ]
    },
    {
      "cell_type": "markdown",
      "metadata": {
        "id": "740BAFU3IClP"
      },
      "source": [
        "Theme 2"
      ]
    },
    {
      "cell_type": "code",
      "metadata": {
        "id": "aZ7xR8o17gjJ",
        "colab": {
          "base_uri": "https://localhost:8080/",
          "height": 256
        },
        "outputId": "2538c5dc-9f60-4e67-9e3b-d7619306af25"
      },
      "source": [
        "draw_word_cloud(1)"
      ],
      "execution_count": 39,
      "outputs": [
        {
          "output_type": "display_data",
          "data": {
            "image/png": "[encoded data removed]",
            "text/plain": [
              "<Figure size 360x360 with 1 Axes>"
            ]
          },
          "metadata": {
            "needs_background": "light"
          }
        }
      ]
    },
    {
      "cell_type": "code",
      "metadata": {
        "colab": {
          "base_uri": "https://localhost:8080/",
          "height": 979
        },
        "id": "8XXJeP6mMoIG",
        "outputId": "7c3b2201-9544-4399-f749-a9f8c0f567cc"
      },
      "source": [
        "tab"
      ],
      "execution_count": 40,
      "outputs": [
        {
          "output_type": "execute_result",
          "data": {
            "text/html": [
              "<div>\n",
              "<style scoped>\n",
              "    .dataframe tbody tr th:only-of-type {\n",
              "        vertical-align: middle;\n",
              "    }\n",
              "\n",
              "    .dataframe tbody tr th {\n",
              "        vertical-align: top;\n",
              "    }\n",
              "\n",
              "    .dataframe thead th {\n",
              "        text-align: right;\n",
              "    }\n",
              "</style>\n",
              "<table border=\"1\" class=\"dataframe\">\n",
              "  <thead>\n",
              "    <tr style=\"text-align: right;\">\n",
              "      <th></th>\n",
              "      <th>Quarter</th>\n",
              "      <th>Topic1</th>\n",
              "      <th>Topic2</th>\n",
              "    </tr>\n",
              "    <tr>\n",
              "      <th>quarter</th>\n",
              "      <th></th>\n",
              "      <th></th>\n",
              "      <th></th>\n",
              "    </tr>\n",
              "  </thead>\n",
              "  <tbody>\n",
              "    <tr>\n",
              "      <th>2014Q3</th>\n",
              "      <td>2014Q3</td>\n",
              "      <td>0.333333</td>\n",
              "      <td>0.500000</td>\n",
              "    </tr>\n",
              "    <tr>\n",
              "      <th>2014Q4</th>\n",
              "      <td>2014Q4</td>\n",
              "      <td>0.272727</td>\n",
              "      <td>0.100000</td>\n",
              "    </tr>\n",
              "    <tr>\n",
              "      <th>2015Q1</th>\n",
              "      <td>2015Q1</td>\n",
              "      <td>0.142857</td>\n",
              "      <td>0.583333</td>\n",
              "    </tr>\n",
              "    <tr>\n",
              "      <th>2015Q2</th>\n",
              "      <td>2015Q2</td>\n",
              "      <td>0.428571</td>\n",
              "      <td>0.444444</td>\n",
              "    </tr>\n",
              "    <tr>\n",
              "      <th>2015Q3</th>\n",
              "      <td>2015Q3</td>\n",
              "      <td>0.222222</td>\n",
              "      <td>0.333333</td>\n",
              "    </tr>\n",
              "    <tr>\n",
              "      <th>2015Q4</th>\n",
              "      <td>2015Q4</td>\n",
              "      <td>0.550000</td>\n",
              "      <td>0.722222</td>\n",
              "    </tr>\n",
              "    <tr>\n",
              "      <th>2016Q1</th>\n",
              "      <td>2016Q1</td>\n",
              "      <td>0.600000</td>\n",
              "      <td>0.280000</td>\n",
              "    </tr>\n",
              "    <tr>\n",
              "      <th>2016Q2</th>\n",
              "      <td>2016Q2</td>\n",
              "      <td>0.477273</td>\n",
              "      <td>0.447368</td>\n",
              "    </tr>\n",
              "    <tr>\n",
              "      <th>2016Q3</th>\n",
              "      <td>2016Q3</td>\n",
              "      <td>0.500000</td>\n",
              "      <td>0.357143</td>\n",
              "    </tr>\n",
              "    <tr>\n",
              "      <th>2016Q4</th>\n",
              "      <td>2016Q4</td>\n",
              "      <td>0.476190</td>\n",
              "      <td>0.450000</td>\n",
              "    </tr>\n",
              "    <tr>\n",
              "      <th>2017Q1</th>\n",
              "      <td>2017Q1</td>\n",
              "      <td>0.266667</td>\n",
              "      <td>0.365385</td>\n",
              "    </tr>\n",
              "    <tr>\n",
              "      <th>2017Q2</th>\n",
              "      <td>2017Q2</td>\n",
              "      <td>0.580645</td>\n",
              "      <td>0.507692</td>\n",
              "    </tr>\n",
              "    <tr>\n",
              "      <th>2017Q3</th>\n",
              "      <td>2017Q3</td>\n",
              "      <td>0.511111</td>\n",
              "      <td>0.326531</td>\n",
              "    </tr>\n",
              "    <tr>\n",
              "      <th>2017Q4</th>\n",
              "      <td>2017Q4</td>\n",
              "      <td>0.371429</td>\n",
              "      <td>0.412698</td>\n",
              "    </tr>\n",
              "    <tr>\n",
              "      <th>2018Q1</th>\n",
              "      <td>2018Q1</td>\n",
              "      <td>0.511111</td>\n",
              "      <td>0.523810</td>\n",
              "    </tr>\n",
              "    <tr>\n",
              "      <th>2018Q2</th>\n",
              "      <td>2018Q2</td>\n",
              "      <td>0.519231</td>\n",
              "      <td>0.489362</td>\n",
              "    </tr>\n",
              "    <tr>\n",
              "      <th>2018Q3</th>\n",
              "      <td>2018Q3</td>\n",
              "      <td>0.516667</td>\n",
              "      <td>0.509091</td>\n",
              "    </tr>\n",
              "    <tr>\n",
              "      <th>2018Q4</th>\n",
              "      <td>2018Q4</td>\n",
              "      <td>0.363636</td>\n",
              "      <td>0.518072</td>\n",
              "    </tr>\n",
              "    <tr>\n",
              "      <th>2019Q1</th>\n",
              "      <td>2019Q1</td>\n",
              "      <td>0.440678</td>\n",
              "      <td>0.419355</td>\n",
              "    </tr>\n",
              "    <tr>\n",
              "      <th>2019Q2</th>\n",
              "      <td>2019Q2</td>\n",
              "      <td>0.500000</td>\n",
              "      <td>0.438596</td>\n",
              "    </tr>\n",
              "    <tr>\n",
              "      <th>2019Q3</th>\n",
              "      <td>2019Q3</td>\n",
              "      <td>0.571429</td>\n",
              "      <td>0.405405</td>\n",
              "    </tr>\n",
              "    <tr>\n",
              "      <th>2019Q4</th>\n",
              "      <td>2019Q4</td>\n",
              "      <td>0.591837</td>\n",
              "      <td>0.448980</td>\n",
              "    </tr>\n",
              "    <tr>\n",
              "      <th>2020Q1</th>\n",
              "      <td>2020Q1</td>\n",
              "      <td>0.596491</td>\n",
              "      <td>0.493151</td>\n",
              "    </tr>\n",
              "    <tr>\n",
              "      <th>2020Q2</th>\n",
              "      <td>2020Q2</td>\n",
              "      <td>0.623377</td>\n",
              "      <td>0.500000</td>\n",
              "    </tr>\n",
              "    <tr>\n",
              "      <th>2020Q3</th>\n",
              "      <td>2020Q3</td>\n",
              "      <td>0.772727</td>\n",
              "      <td>0.646465</td>\n",
              "    </tr>\n",
              "    <tr>\n",
              "      <th>2020Q4</th>\n",
              "      <td>2020Q4</td>\n",
              "      <td>0.764706</td>\n",
              "      <td>0.593750</td>\n",
              "    </tr>\n",
              "    <tr>\n",
              "      <th>2021Q1</th>\n",
              "      <td>2021Q1</td>\n",
              "      <td>0.588235</td>\n",
              "      <td>0.581818</td>\n",
              "    </tr>\n",
              "    <tr>\n",
              "      <th>2021Q2</th>\n",
              "      <td>2021Q2</td>\n",
              "      <td>0.629032</td>\n",
              "      <td>0.458333</td>\n",
              "    </tr>\n",
              "    <tr>\n",
              "      <th>2021Q3</th>\n",
              "      <td>2021Q3</td>\n",
              "      <td>0.784314</td>\n",
              "      <td>0.555556</td>\n",
              "    </tr>\n",
              "  </tbody>\n",
              "</table>\n",
              "</div>"
            ],
            "text/plain": [
              "        Quarter    Topic1    Topic2\n",
              "quarter                            \n",
              "2014Q3   2014Q3  0.333333  0.500000\n",
              "2014Q4   2014Q4  0.272727  0.100000\n",
              "2015Q1   2015Q1  0.142857  0.583333\n",
              "2015Q2   2015Q2  0.428571  0.444444\n",
              "2015Q3   2015Q3  0.222222  0.333333\n",
              "2015Q4   2015Q4  0.550000  0.722222\n",
              "2016Q1   2016Q1  0.600000  0.280000\n",
              "2016Q2   2016Q2  0.477273  0.447368\n",
              "2016Q3   2016Q3  0.500000  0.357143\n",
              "2016Q4   2016Q4  0.476190  0.450000\n",
              "2017Q1   2017Q1  0.266667  0.365385\n",
              "2017Q2   2017Q2  0.580645  0.507692\n",
              "2017Q3   2017Q3  0.511111  0.326531\n",
              "2017Q4   2017Q4  0.371429  0.412698\n",
              "2018Q1   2018Q1  0.511111  0.523810\n",
              "2018Q2   2018Q2  0.519231  0.489362\n",
              "2018Q3   2018Q3  0.516667  0.509091\n",
              "2018Q4   2018Q4  0.363636  0.518072\n",
              "2019Q1   2019Q1  0.440678  0.419355\n",
              "2019Q2   2019Q2  0.500000  0.438596\n",
              "2019Q3   2019Q3  0.571429  0.405405\n",
              "2019Q4   2019Q4  0.591837  0.448980\n",
              "2020Q1   2020Q1  0.596491  0.493151\n",
              "2020Q2   2020Q2  0.623377  0.500000\n",
              "2020Q3   2020Q3  0.772727  0.646465\n",
              "2020Q4   2020Q4  0.764706  0.593750\n",
              "2021Q1   2021Q1  0.588235  0.581818\n",
              "2021Q2   2021Q2  0.629032  0.458333\n",
              "2021Q3   2021Q3  0.784314  0.555556"
            ]
          },
          "metadata": {},
          "execution_count": 40
        }
      ]
    },
    {
      "cell_type": "code",
      "metadata": {
        "id": "ZdjkfGCatXpv"
      },
      "source": [
        "tab = tab.iloc[9:]\n"
      ],
      "execution_count": 41,
      "outputs": []
    },
    {
      "cell_type": "code",
      "metadata": {
        "colab": {
          "base_uri": "https://localhost:8080/",
          "height": 1000
        },
        "id": "DzPZ8-ksftMf",
        "outputId": "ea399150-4dcd-4966-91e1-978fb9be6bd9"
      },
      "source": [
        "tab['quarter_num'] = tab['Quarter'].astype(str)\n",
        "\n",
        "tab['quarter_num'] = pd.to_datetime(tab['quarter_num'].str.replace(r'(Q\\d) (\\d+)', r'\\2-\\1'), errors='coerce')\n",
        "\n",
        "tab['quarter_num'] = tab['quarter_num'].map(dt.datetime.toordinal)\n",
        "\n",
        "tab\n"
      ],
      "execution_count": 42,
      "outputs": [
        {
          "output_type": "stream",
          "name": "stderr",
          "text": [
            "/usr/local/lib/python3.7/dist-packages/ipykernel_launcher.py:1: SettingWithCopyWarning: \n",
            "A value is trying to be set on a copy of a slice from a DataFrame.\n",
            "Try using .loc[row_indexer,col_indexer] = value instead\n",
            "\n",
            "See the caveats in the documentation: https://pandas.pydata.org/pandas-docs/stable/user_guide/indexing.html#returning-a-view-versus-a-copy\n",
            "  \"\"\"Entry point for launching an IPython kernel.\n",
            "/usr/local/lib/python3.7/dist-packages/ipykernel_launcher.py:3: SettingWithCopyWarning: \n",
            "A value is trying to be set on a copy of a slice from a DataFrame.\n",
            "Try using .loc[row_indexer,col_indexer] = value instead\n",
            "\n",
            "See the caveats in the documentation: https://pandas.pydata.org/pandas-docs/stable/user_guide/indexing.html#returning-a-view-versus-a-copy\n",
            "  This is separate from the ipykernel package so we can avoid doing imports until\n",
            "/usr/local/lib/python3.7/dist-packages/ipykernel_launcher.py:5: SettingWithCopyWarning: \n",
            "A value is trying to be set on a copy of a slice from a DataFrame.\n",
            "Try using .loc[row_indexer,col_indexer] = value instead\n",
            "\n",
            "See the caveats in the documentation: https://pandas.pydata.org/pandas-docs/stable/user_guide/indexing.html#returning-a-view-versus-a-copy\n",
            "  \"\"\"\n"
          ]
        },
        {
          "output_type": "execute_result",
          "data": {
            "text/html": [
              "<div>\n",
              "<style scoped>\n",
              "    .dataframe tbody tr th:only-of-type {\n",
              "        vertical-align: middle;\n",
              "    }\n",
              "\n",
              "    .dataframe tbody tr th {\n",
              "        vertical-align: top;\n",
              "    }\n",
              "\n",
              "    .dataframe thead th {\n",
              "        text-align: right;\n",
              "    }\n",
              "</style>\n",
              "<table border=\"1\" class=\"dataframe\">\n",
              "  <thead>\n",
              "    <tr style=\"text-align: right;\">\n",
              "      <th></th>\n",
              "      <th>Quarter</th>\n",
              "      <th>Topic1</th>\n",
              "      <th>Topic2</th>\n",
              "      <th>quarter_num</th>\n",
              "    </tr>\n",
              "    <tr>\n",
              "      <th>quarter</th>\n",
              "      <th></th>\n",
              "      <th></th>\n",
              "      <th></th>\n",
              "      <th></th>\n",
              "    </tr>\n",
              "  </thead>\n",
              "  <tbody>\n",
              "    <tr>\n",
              "      <th>2016Q4</th>\n",
              "      <td>2016Q4</td>\n",
              "      <td>0.476190</td>\n",
              "      <td>0.450000</td>\n",
              "      <td>736238</td>\n",
              "    </tr>\n",
              "    <tr>\n",
              "      <th>2017Q1</th>\n",
              "      <td>2017Q1</td>\n",
              "      <td>0.266667</td>\n",
              "      <td>0.365385</td>\n",
              "      <td>736330</td>\n",
              "    </tr>\n",
              "    <tr>\n",
              "      <th>2017Q2</th>\n",
              "      <td>2017Q2</td>\n",
              "      <td>0.580645</td>\n",
              "      <td>0.507692</td>\n",
              "      <td>736420</td>\n",
              "    </tr>\n",
              "    <tr>\n",
              "      <th>2017Q3</th>\n",
              "      <td>2017Q3</td>\n",
              "      <td>0.511111</td>\n",
              "      <td>0.326531</td>\n",
              "      <td>736511</td>\n",
              "    </tr>\n",
              "    <tr>\n",
              "      <th>2017Q4</th>\n",
              "      <td>2017Q4</td>\n",
              "      <td>0.371429</td>\n",
              "      <td>0.412698</td>\n",
              "      <td>736603</td>\n",
              "    </tr>\n",
              "    <tr>\n",
              "      <th>2018Q1</th>\n",
              "      <td>2018Q1</td>\n",
              "      <td>0.511111</td>\n",
              "      <td>0.523810</td>\n",
              "      <td>736695</td>\n",
              "    </tr>\n",
              "    <tr>\n",
              "      <th>2018Q2</th>\n",
              "      <td>2018Q2</td>\n",
              "      <td>0.519231</td>\n",
              "      <td>0.489362</td>\n",
              "      <td>736785</td>\n",
              "    </tr>\n",
              "    <tr>\n",
              "      <th>2018Q3</th>\n",
              "      <td>2018Q3</td>\n",
              "      <td>0.516667</td>\n",
              "      <td>0.509091</td>\n",
              "      <td>736876</td>\n",
              "    </tr>\n",
              "    <tr>\n",
              "      <th>2018Q4</th>\n",
              "      <td>2018Q4</td>\n",
              "      <td>0.363636</td>\n",
              "      <td>0.518072</td>\n",
              "      <td>736968</td>\n",
              "    </tr>\n",
              "    <tr>\n",
              "      <th>2019Q1</th>\n",
              "      <td>2019Q1</td>\n",
              "      <td>0.440678</td>\n",
              "      <td>0.419355</td>\n",
              "      <td>737060</td>\n",
              "    </tr>\n",
              "    <tr>\n",
              "      <th>2019Q2</th>\n",
              "      <td>2019Q2</td>\n",
              "      <td>0.500000</td>\n",
              "      <td>0.438596</td>\n",
              "      <td>737150</td>\n",
              "    </tr>\n",
              "    <tr>\n",
              "      <th>2019Q3</th>\n",
              "      <td>2019Q3</td>\n",
              "      <td>0.571429</td>\n",
              "      <td>0.405405</td>\n",
              "      <td>737241</td>\n",
              "    </tr>\n",
              "    <tr>\n",
              "      <th>2019Q4</th>\n",
              "      <td>2019Q4</td>\n",
              "      <td>0.591837</td>\n",
              "      <td>0.448980</td>\n",
              "      <td>737333</td>\n",
              "    </tr>\n",
              "    <tr>\n",
              "      <th>2020Q1</th>\n",
              "      <td>2020Q1</td>\n",
              "      <td>0.596491</td>\n",
              "      <td>0.493151</td>\n",
              "      <td>737425</td>\n",
              "    </tr>\n",
              "    <tr>\n",
              "      <th>2020Q2</th>\n",
              "      <td>2020Q2</td>\n",
              "      <td>0.623377</td>\n",
              "      <td>0.500000</td>\n",
              "      <td>737516</td>\n",
              "    </tr>\n",
              "    <tr>\n",
              "      <th>2020Q3</th>\n",
              "      <td>2020Q3</td>\n",
              "      <td>0.772727</td>\n",
              "      <td>0.646465</td>\n",
              "      <td>737607</td>\n",
              "    </tr>\n",
              "    <tr>\n",
              "      <th>2020Q4</th>\n",
              "      <td>2020Q4</td>\n",
              "      <td>0.764706</td>\n",
              "      <td>0.593750</td>\n",
              "      <td>737699</td>\n",
              "    </tr>\n",
              "    <tr>\n",
              "      <th>2021Q1</th>\n",
              "      <td>2021Q1</td>\n",
              "      <td>0.588235</td>\n",
              "      <td>0.581818</td>\n",
              "      <td>737791</td>\n",
              "    </tr>\n",
              "    <tr>\n",
              "      <th>2021Q2</th>\n",
              "      <td>2021Q2</td>\n",
              "      <td>0.629032</td>\n",
              "      <td>0.458333</td>\n",
              "      <td>737881</td>\n",
              "    </tr>\n",
              "    <tr>\n",
              "      <th>2021Q3</th>\n",
              "      <td>2021Q3</td>\n",
              "      <td>0.784314</td>\n",
              "      <td>0.555556</td>\n",
              "      <td>737972</td>\n",
              "    </tr>\n",
              "  </tbody>\n",
              "</table>\n",
              "</div>"
            ],
            "text/plain": [
              "        Quarter    Topic1    Topic2  quarter_num\n",
              "quarter                                         \n",
              "2016Q4   2016Q4  0.476190  0.450000       736238\n",
              "2017Q1   2017Q1  0.266667  0.365385       736330\n",
              "2017Q2   2017Q2  0.580645  0.507692       736420\n",
              "2017Q3   2017Q3  0.511111  0.326531       736511\n",
              "2017Q4   2017Q4  0.371429  0.412698       736603\n",
              "2018Q1   2018Q1  0.511111  0.523810       736695\n",
              "2018Q2   2018Q2  0.519231  0.489362       736785\n",
              "2018Q3   2018Q3  0.516667  0.509091       736876\n",
              "2018Q4   2018Q4  0.363636  0.518072       736968\n",
              "2019Q1   2019Q1  0.440678  0.419355       737060\n",
              "2019Q2   2019Q2  0.500000  0.438596       737150\n",
              "2019Q3   2019Q3  0.571429  0.405405       737241\n",
              "2019Q4   2019Q4  0.591837  0.448980       737333\n",
              "2020Q1   2020Q1  0.596491  0.493151       737425\n",
              "2020Q2   2020Q2  0.623377  0.500000       737516\n",
              "2020Q3   2020Q3  0.772727  0.646465       737607\n",
              "2020Q4   2020Q4  0.764706  0.593750       737699\n",
              "2021Q1   2021Q1  0.588235  0.581818       737791\n",
              "2021Q2   2021Q2  0.629032  0.458333       737881\n",
              "2021Q3   2021Q3  0.784314  0.555556       737972"
            ]
          },
          "metadata": {},
          "execution_count": 42
        }
      ]
    },
    {
      "cell_type": "markdown",
      "metadata": {
        "id": "DILLfptKIJXk"
      },
      "source": [
        "Regression model 1"
      ]
    },
    {
      "cell_type": "code",
      "metadata": {
        "colab": {
          "base_uri": "https://localhost:8080/",
          "height": 317
        },
        "id": "0aHcVEPEtk6V",
        "outputId": "1bd31b10-858b-42c2-ff04-3b433cbe66ef"
      },
      "source": [
        "f1 = 'Topic1 ~ Topic2'\n",
        "f2 = 'Topic1 ~ Topic2 + quarter_num'\n",
        "\n",
        "m1 = smf.ols(formula = f1, data = tab)\n",
        "m2 = smf.ols(formula = f2, data = tab)\n",
        "\n",
        "m1 = m1.fit()\n",
        "m2 = m2.fit()\n",
        "\n",
        "stargazer = Stargazer([m1, m2])\n",
        "\n",
        "stargazer.significant_digits(4) \n",
        "\n",
        "stargazer.covariate_order(['Topic2', 'quarter_num'])\n",
        "\n",
        "stargazer.rename_covariates({'Topic2':'Thème 2' ,'quarter_num': 'Temps'})\n",
        "\n",
        "stargazer"
      ],
      "execution_count": 43,
      "outputs": [
        {
          "output_type": "execute_result",
          "data": {
            "text/html": [
              "<table style=\"text-align:center\"><tr><td colspan=\"3\" style=\"border-bottom: 1px solid black\"></td></tr><tr><td style=\"text-align:left\"></td><td colspan=\"2\"><em>Dependent variable:Topic1</em></td></tr><tr><td style=\"text-align:left\"></td><tr><td style=\"text-align:left\"></td><td>(1)</td><td>(2)</td></tr><tr><td colspan=\"3\" style=\"border-bottom: 1px solid black\"></td></tr><tr><td style=\"text-align:left\">Thème 2</td><td>1.1370<sup>***</sup></td><td>0.6143<sup>*</sup></td></tr><tr><td style=\"text-align:left\"></td><td>(0.3006)</td><td>(0.2995)</td></tr><tr><td style=\"text-align:left\">Temps</td><td></td><td>0.0001<sup>***</sup></td></tr><tr><td style=\"text-align:left\"></td><td></td><td>(0.0000)</td></tr><td colspan=\"3\" style=\"border-bottom: 1px solid black\"></td></tr><tr><td style=\"text-align: left\">Observations</td><td>20</td><td>20</td></tr><tr><td style=\"text-align: left\">R<sup>2</sup></td><td>0.4429</td><td>0.6436</td></tr><tr><td style=\"text-align: left\">Adjusted R<sup>2</sup></td><td>0.4119</td><td>0.6017</td></tr><tr><td style=\"text-align: left\">Residual Std. Error</td><td>0.1027 (df=18)</td><td>0.0845 (df=17)</td></tr><tr><td style=\"text-align: left\">F Statistic</td><td>14.3102<sup>***</sup> (df=1; 18)</td><td>15.3523<sup>***</sup> (df=2; 17)</td></tr><tr><td colspan=\"3\" style=\"border-bottom: 1px solid black\"></td></tr><tr><td style=\"text-align: left\">Note:</td>\n",
              " <td colspan=\"2\" style=\"text-align: right\">\n",
              "  <sup>*</sup>p&lt;0.1;\n",
              "  <sup>**</sup>p&lt;0.05;\n",
              "  <sup>***</sup>p&lt;0.01\n",
              " </td></tr></table>"
            ],
            "text/plain": [
              "<stargazer.stargazer.Stargazer at 0x7f5b371463d0>"
            ]
          },
          "metadata": {},
          "execution_count": 43
        }
      ]
    },
    {
      "cell_type": "markdown",
      "metadata": {
        "id": "uLoeF10FAGYB"
      },
      "source": [
        "Regression model 2"
      ]
    },
    {
      "cell_type": "code",
      "metadata": {
        "colab": {
          "base_uri": "https://localhost:8080/"
        },
        "id": "nwdpWulhFw3n",
        "outputId": "526c8187-f872-40b9-d13a-daedc26beae0"
      },
      "source": [
        "df =  pd.concat([df, topic_share], axis=1)\n",
        "\n",
        "formula_1 = 'fake ~ quarter_num + election'\n",
        "formula_2 = 'fake ~ quarter_num + election'\n",
        "formula_3 = 'fake ~ quarter_num + election + Saison'\n",
        "formula_4 = 'fake ~ quarter_num + election + Saison + State'\n",
        "formula_5 = 'fake ~ quarter_num + election + Saison + State + Topic1 + Topic2'\n",
        "\n",
        "model1 = smf.ols(formula = formula_1, data = df)\n",
        "\n",
        "df['election'] = ''\n",
        "\n",
        "list_elec_year = ['2016', '2018', '2020']\n",
        "\n",
        "list_elec_month = list(range(6,12))\n",
        "\n",
        "for i in range(len(df)):\n",
        "  if (df['mois_num'][i] in list_elec_month and df['Year'][i] in list_elec_year):\n",
        "    df['election'][i] = 1\n",
        "  else:\n",
        "    df['election'][i] = 0\n",
        "\n",
        "model2 = smf.ols(formula = formula_2, data = df)\n",
        "model3 = smf.ols(formula = formula_3, data = df)\n",
        "model4 = smf.ols(formula = formula_4, data = df)\n",
        "model5 = smf.ols(formula = formula_5, data = df)\n",
        "\n",
        "r1 = model1.fit()\n",
        "r2 = model2.fit()\n",
        "r3 = model3.fit()\n",
        "r4 = model4.fit()\n",
        "r5 = model5.fit()\n"
      ],
      "execution_count": 45,
      "outputs": [
        {
          "output_type": "stream",
          "name": "stderr",
          "text": [
            "/usr/local/lib/python3.7/dist-packages/ipykernel_launcher.py:21: SettingWithCopyWarning: \n",
            "A value is trying to be set on a copy of a slice from a DataFrame\n",
            "\n",
            "See the caveats in the documentation: https://pandas.pydata.org/pandas-docs/stable/user_guide/indexing.html#returning-a-view-versus-a-copy\n",
            "/usr/local/lib/python3.7/dist-packages/ipykernel_launcher.py:19: SettingWithCopyWarning: \n",
            "A value is trying to be set on a copy of a slice from a DataFrame\n",
            "\n",
            "See the caveats in the documentation: https://pandas.pydata.org/pandas-docs/stable/user_guide/indexing.html#returning-a-view-versus-a-copy\n"
          ]
        }
      ]
    },
    {
      "cell_type": "code",
      "metadata": {
        "colab": {
          "base_uri": "https://localhost:8080/",
          "height": 471
        },
        "id": "v_Suy2yLDr9B",
        "outputId": "fca6ddfc-9d6a-4151-8743-b769a6c2d3c3"
      },
      "source": [
        "stargazer = Stargazer([r1, r2, r3, r4, r5])\n",
        "\n",
        "stargazer.significant_digits(4) \n",
        "\n",
        "stargazer.covariate_order(['election[T.1]', 'quarter_num', 'Topic1', 'Topic2'])\n",
        "\n",
        "stargazer.rename_covariates({'quarter_num': 'Trimestre', 'election[T.1]': 'Élection'})\n",
        "\n",
        "stargazer.add_line('Élection chambre', ['Non', 'Oui', 'Oui', 'Oui', 'Oui'])\n",
        "stargazer.add_line('Saison', ['Non', 'Non', 'Oui', 'Oui', 'Oui'])\n",
        "stargazer.add_line('État', ['Non', 'Non', 'Non', 'Oui', 'Oui'])\n",
        "\n",
        "stargazer\n"
      ],
      "execution_count": 47,
      "outputs": [
        {
          "output_type": "execute_result",
          "data": {
            "text/html": [
              "<table style=\"text-align:center\"><tr><td colspan=\"6\" style=\"border-bottom: 1px solid black\"></td></tr><tr><td style=\"text-align:left\"></td><td colspan=\"5\"><em>Dependent variable:fake</em></td></tr><tr><td style=\"text-align:left\"></td><tr><td style=\"text-align:left\"></td><td>(1)</td><td>(2)</td><td>(3)</td><td>(4)</td><td>(5)</td></tr><tr><td colspan=\"6\" style=\"border-bottom: 1px solid black\"></td></tr><tr><td style=\"text-align:left\">Élection</td><td>0.0919<sup>***</sup></td><td>0.0919<sup>***</sup></td><td>0.0889<sup>***</sup></td><td>0.0688<sup>***</sup></td><td>0.0673<sup>***</sup></td></tr><tr><td style=\"text-align:left\"></td><td>(0.0199)</td><td>(0.0199)</td><td>(0.0237)</td><td>(0.0237)</td><td>(0.0237)</td></tr><tr><td style=\"text-align:left\">Trimestre</td><td>0.0001<sup>***</sup></td><td>0.0001<sup>***</sup></td><td>0.0001<sup>***</sup></td><td>0.0001<sup>***</sup></td><td>0.0001<sup>***</sup></td></tr><tr><td style=\"text-align:left\"></td><td>(0.0000)</td><td>(0.0000)</td><td>(0.0000)</td><td>(0.0000)</td><td>(0.0000)</td></tr><tr><td style=\"text-align:left\">Topic1</td><td></td><td></td><td></td><td></td><td>-33.8415<sup>***</sup></td></tr><tr><td style=\"text-align:left\"></td><td></td><td></td><td></td><td></td><td>(4.1039)</td></tr><tr><td style=\"text-align:left\">Topic2</td><td></td><td></td><td></td><td></td><td>-33.9496<sup>***</sup></td></tr><tr><td style=\"text-align:left\"></td><td></td><td></td><td></td><td></td><td>(4.1010)</td></tr><tr><td style=\"text-align: left\">Élection chambre</td><td>Non</td><td>Oui</td><td>Oui</td><td>Oui</td><td>Oui</td></tr><tr><td style=\"text-align: left\">Saison</td><td>Non</td><td>Non</td><td>Oui</td><td>Oui</td><td>Oui</td></tr><tr><td style=\"text-align: left\">État</td><td>Non</td><td>Non</td><td>Non</td><td>Oui</td><td>Oui</td></tr><td colspan=\"6\" style=\"border-bottom: 1px solid black\"></td></tr><tr><td style=\"text-align: left\">Observations</td><td>2,810</td><td>2,810</td><td>2,810</td><td>2,810</td><td>2,810</td></tr><tr><td style=\"text-align: left\">R<sup>2</sup></td><td>0.0335</td><td>0.0335</td><td>0.0336</td><td>0.0747</td><td>0.0792</td></tr><tr><td style=\"text-align: left\">Adjusted R<sup>2</sup></td><td>0.0328</td><td>0.0328</td><td>0.0319</td><td>0.0688</td><td>0.0729</td></tr><tr><td style=\"text-align: left\">Residual Std. Error</td><td>0.4913 (df=2807)</td><td>0.4913 (df=2807)</td><td>0.4915 (df=2804)</td><td>0.4821 (df=2791)</td><td>0.4810 (df=2790)</td></tr><tr><td style=\"text-align: left\">F Statistic</td><td>48.5806<sup>***</sup> (df=2; 2807)</td><td>48.5806<sup>***</sup> (df=2; 2807)</td><td>19.4846<sup>***</sup> (df=5; 2804)</td><td>12.5265<sup>***</sup> (df=18; 2791)</td><td>12.6257<sup>***</sup> (df=19; 2790)</td></tr><tr><td colspan=\"6\" style=\"border-bottom: 1px solid black\"></td></tr><tr><td style=\"text-align: left\">Note:</td>\n",
              " <td colspan=\"5\" style=\"text-align: right\">\n",
              "  <sup>*</sup>p&lt;0.1;\n",
              "  <sup>**</sup>p&lt;0.05;\n",
              "  <sup>***</sup>p&lt;0.01\n",
              " </td></tr></table>"
            ],
            "text/plain": [
              "<stargazer.stargazer.Stargazer at 0x7f5b37087490>"
            ]
          },
          "metadata": {},
          "execution_count": 47
        }
      ]
    }
  ]
}